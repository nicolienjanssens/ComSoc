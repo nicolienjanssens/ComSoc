{
 "cells": [
  {
   "cell_type": "code",
   "execution_count": 1,
   "metadata": {},
   "outputs": [],
   "source": [
    "import top_k\n",
    "import numpy as np\n",
    "import pandas as pd"
   ]
  },
  {
   "cell_type": "markdown",
   "metadata": {},
   "source": [
    "# Namaak benade 2018"
   ]
  },
  {
   "cell_type": "code",
   "execution_count": 2,
   "metadata": {},
   "outputs": [
    {
     "ename": "SyntaxError",
     "evalue": "invalid syntax (<ipython-input-2-a4ffdd1b50ae>, line 2)",
     "output_type": "error",
     "traceback": [
      "\u001b[0;36m  File \u001b[0;32m\"<ipython-input-2-a4ffdd1b50ae>\"\u001b[0;36m, line \u001b[0;32m2\u001b[0m\n\u001b[0;31m    ct costs and utils from benade 2018\u001b[0m\n\u001b[0m           ^\u001b[0m\n\u001b[0;31mSyntaxError\u001b[0m\u001b[0;31m:\u001b[0m invalid syntax\n"
     ]
    }
   ],
   "source": [
    "# using projebudget = 65\n",
    "ct costs and utils from benade 2018\n",
    "P = 10\n",
    "\n",
    "project_prizes= {0:10, 1:20, 2:3, 3:8, 4:5, 5:5, 6:10, 7:10, 8:30, 9:25}\n",
    "possible_sets = top_k.get_possible_sets(project_prizes, budget)"
   ]
  },
  {
   "cell_type": "code",
   "execution_count": 3,
   "metadata": {},
   "outputs": [],
   "source": [
    "N = 720\n",
    "epsilon = 15\n",
    "\n",
    "base_util = np.asarray([5.8, 2.3, 29.3, 9.5, 14.8, 9.4, 5.4, 14.9, 6.7, 1.9])\n",
    "utilities = top_k.make_voter_utils(base_util, epsilon, N)"
   ]
  },
  {
   "cell_type": "code",
   "execution_count": 4,
   "metadata": {},
   "outputs": [
    {
     "ename": "NameError",
     "evalue": "name 'possible_sets' is not defined",
     "output_type": "error",
     "traceback": [
      "\u001b[0;31m---------------------------------------------------------------------------\u001b[0m",
      "\u001b[0;31mNameError\u001b[0m                                 Traceback (most recent call last)",
      "\u001b[0;32m<ipython-input-4-35b43eab02e4>\u001b[0m in \u001b[0;36m<module>\u001b[0;34m\u001b[0m\n\u001b[0;32m----> 1\u001b[0;31m \u001b[0mmax_set\u001b[0m \u001b[0;34m=\u001b[0m \u001b[0mtop_k\u001b[0m\u001b[0;34m.\u001b[0m\u001b[0mmax_utility\u001b[0m\u001b[0;34m(\u001b[0m\u001b[0mpossible_sets\u001b[0m\u001b[0;34m,\u001b[0m \u001b[0mutilities\u001b[0m\u001b[0;34m)\u001b[0m\u001b[0;34m\u001b[0m\u001b[0;34m\u001b[0m\u001b[0m\n\u001b[0m",
      "\u001b[0;31mNameError\u001b[0m: name 'possible_sets' is not defined"
     ]
    }
   ],
   "source": [
    "max_set = top_k.max_utility(possible_sets, utilities)\n"
   ]
  },
  {
   "cell_type": "code",
   "execution_count": 5,
   "metadata": {},
   "outputs": [
    {
     "ename": "NameError",
     "evalue": "name 'P' is not defined",
     "output_type": "error",
     "traceback": [
      "\u001b[0;31m---------------------------------------------------------------------------\u001b[0m",
      "\u001b[0;31mNameError\u001b[0m                                 Traceback (most recent call last)",
      "\u001b[0;32m<ipython-input-5-2004dde608e0>\u001b[0m in \u001b[0;36m<module>\u001b[0;34m\u001b[0m\n\u001b[0;32m----> 1\u001b[0;31m \u001b[0;32mfor\u001b[0m \u001b[0mk\u001b[0m \u001b[0;32min\u001b[0m \u001b[0mrange\u001b[0m\u001b[0;34m(\u001b[0m\u001b[0;36m1\u001b[0m\u001b[0;34m,\u001b[0m \u001b[0mP\u001b[0m\u001b[0;34m)\u001b[0m\u001b[0;34m:\u001b[0m\u001b[0;34m\u001b[0m\u001b[0;34m\u001b[0m\u001b[0m\n\u001b[0m\u001b[1;32m      2\u001b[0m         \u001b[0mprint\u001b[0m\u001b[0;34m(\u001b[0m\u001b[0;34m\"---------k------------\"\u001b[0m\u001b[0;34m,\u001b[0m \u001b[0mk\u001b[0m\u001b[0;34m)\u001b[0m\u001b[0;34m\u001b[0m\u001b[0;34m\u001b[0m\u001b[0m\n\u001b[1;32m      3\u001b[0m         \u001b[0;31m# calculate scores for all projects\u001b[0m\u001b[0;34m\u001b[0m\u001b[0;34m\u001b[0m\u001b[0;34m\u001b[0m\u001b[0m\n\u001b[1;32m      4\u001b[0m         \u001b[0mvotes\u001b[0m \u001b[0;34m=\u001b[0m \u001b[0mtop_k\u001b[0m\u001b[0;34m.\u001b[0m\u001b[0mk_approval\u001b[0m\u001b[0;34m(\u001b[0m\u001b[0mk\u001b[0m\u001b[0;34m,\u001b[0m \u001b[0mutilities\u001b[0m\u001b[0;34m,\u001b[0m \u001b[0mP\u001b[0m\u001b[0;34m)\u001b[0m\u001b[0;34m\u001b[0m\u001b[0;34m\u001b[0m\u001b[0m\n\u001b[1;32m      5\u001b[0m         \u001b[0mprint\u001b[0m\u001b[0;34m(\u001b[0m\u001b[0mvotes\u001b[0m\u001b[0;34m)\u001b[0m\u001b[0;34m\u001b[0m\u001b[0;34m\u001b[0m\u001b[0m\n",
      "\u001b[0;31mNameError\u001b[0m: name 'P' is not defined"
     ]
    }
   ],
   "source": [
    "for k in range(1, P):\n",
    "        print(\"---------k------------\", k)\n",
    "        # calculate scores for all projects\n",
    "        votes = top_k.k_approval(k, utilities, P)\n",
    "        print(votes)\n",
    "        # determine the winning projects\n",
    "        winners = top_k.greedy_allocation(votes, project_prizes, budget)\n",
    "        \n",
    "        # calculate loss\n",
    "        util_score = top_k.calculate_sw(utilities, winners)\n",
    "        egal_score = top_k.calculate_sw(utilities, winners, egal=True)\n",
    "        # nash_score = calculate_sw(utilities, winners, nash=True)\n",
    "        nash_score = 0\n",
    "\n",
    "        comp_score = top_k.calc_compare_score(winners, max_set, project_prizes)\n",
    "        dist_score = top_k.calc_dist_score(winners, max_set, utilities)\n",
    "\n",
    "#         print(\"util\", util_score)\n",
    "#         print(\"egal\", egal_score)\n",
    "#         print(\"comp\", comp_score)\n",
    "#         print(\"dist\", dist_score)"
   ]
  },
  {
   "cell_type": "code",
   "execution_count": 6,
   "metadata": {},
   "outputs": [
    {
     "ename": "FileNotFoundError",
     "evalue": "[Errno 2] File results/results_P10_ep15_N720_B65_min10_max25_L100.csv does not exist: 'results/results_P10_ep15_N720_B65_min10_max25_L100.csv'",
     "output_type": "error",
     "traceback": [
      "\u001b[0;31m---------------------------------------------------------------------------\u001b[0m",
      "\u001b[0;31mFileNotFoundError\u001b[0m                         Traceback (most recent call last)",
      "\u001b[0;32m<ipython-input-6-c3835a4ee8d2>\u001b[0m in \u001b[0;36m<module>\u001b[0;34m\u001b[0m\n\u001b[0;32m----> 1\u001b[0;31m \u001b[0mdf\u001b[0m \u001b[0;34m=\u001b[0m \u001b[0mpd\u001b[0m\u001b[0;34m.\u001b[0m\u001b[0mread_csv\u001b[0m\u001b[0;34m(\u001b[0m\u001b[0;34m\"results/results_P10_ep15_N720_B65_min10_max25_L100.csv\"\u001b[0m\u001b[0;34m)\u001b[0m\u001b[0;34m\u001b[0m\u001b[0;34m\u001b[0m\u001b[0m\n\u001b[0m",
      "\u001b[0;32m~/anaconda3/lib/python3.7/site-packages/pandas/io/parsers.py\u001b[0m in \u001b[0;36mparser_f\u001b[0;34m(filepath_or_buffer, sep, delimiter, header, names, index_col, usecols, squeeze, prefix, mangle_dupe_cols, dtype, engine, converters, true_values, false_values, skipinitialspace, skiprows, skipfooter, nrows, na_values, keep_default_na, na_filter, verbose, skip_blank_lines, parse_dates, infer_datetime_format, keep_date_col, date_parser, dayfirst, cache_dates, iterator, chunksize, compression, thousands, decimal, lineterminator, quotechar, quoting, doublequote, escapechar, comment, encoding, dialect, error_bad_lines, warn_bad_lines, delim_whitespace, low_memory, memory_map, float_precision)\u001b[0m\n\u001b[1;32m    674\u001b[0m         )\n\u001b[1;32m    675\u001b[0m \u001b[0;34m\u001b[0m\u001b[0m\n\u001b[0;32m--> 676\u001b[0;31m         \u001b[0;32mreturn\u001b[0m \u001b[0m_read\u001b[0m\u001b[0;34m(\u001b[0m\u001b[0mfilepath_or_buffer\u001b[0m\u001b[0;34m,\u001b[0m \u001b[0mkwds\u001b[0m\u001b[0;34m)\u001b[0m\u001b[0;34m\u001b[0m\u001b[0;34m\u001b[0m\u001b[0m\n\u001b[0m\u001b[1;32m    677\u001b[0m \u001b[0;34m\u001b[0m\u001b[0m\n\u001b[1;32m    678\u001b[0m     \u001b[0mparser_f\u001b[0m\u001b[0;34m.\u001b[0m\u001b[0m__name__\u001b[0m \u001b[0;34m=\u001b[0m \u001b[0mname\u001b[0m\u001b[0;34m\u001b[0m\u001b[0;34m\u001b[0m\u001b[0m\n",
      "\u001b[0;32m~/anaconda3/lib/python3.7/site-packages/pandas/io/parsers.py\u001b[0m in \u001b[0;36m_read\u001b[0;34m(filepath_or_buffer, kwds)\u001b[0m\n\u001b[1;32m    446\u001b[0m \u001b[0;34m\u001b[0m\u001b[0m\n\u001b[1;32m    447\u001b[0m     \u001b[0;31m# Create the parser.\u001b[0m\u001b[0;34m\u001b[0m\u001b[0;34m\u001b[0m\u001b[0;34m\u001b[0m\u001b[0m\n\u001b[0;32m--> 448\u001b[0;31m     \u001b[0mparser\u001b[0m \u001b[0;34m=\u001b[0m \u001b[0mTextFileReader\u001b[0m\u001b[0;34m(\u001b[0m\u001b[0mfp_or_buf\u001b[0m\u001b[0;34m,\u001b[0m \u001b[0;34m**\u001b[0m\u001b[0mkwds\u001b[0m\u001b[0;34m)\u001b[0m\u001b[0;34m\u001b[0m\u001b[0;34m\u001b[0m\u001b[0m\n\u001b[0m\u001b[1;32m    449\u001b[0m \u001b[0;34m\u001b[0m\u001b[0m\n\u001b[1;32m    450\u001b[0m     \u001b[0;32mif\u001b[0m \u001b[0mchunksize\u001b[0m \u001b[0;32mor\u001b[0m \u001b[0miterator\u001b[0m\u001b[0;34m:\u001b[0m\u001b[0;34m\u001b[0m\u001b[0;34m\u001b[0m\u001b[0m\n",
      "\u001b[0;32m~/anaconda3/lib/python3.7/site-packages/pandas/io/parsers.py\u001b[0m in \u001b[0;36m__init__\u001b[0;34m(self, f, engine, **kwds)\u001b[0m\n\u001b[1;32m    878\u001b[0m             \u001b[0mself\u001b[0m\u001b[0;34m.\u001b[0m\u001b[0moptions\u001b[0m\u001b[0;34m[\u001b[0m\u001b[0;34m\"has_index_names\"\u001b[0m\u001b[0;34m]\u001b[0m \u001b[0;34m=\u001b[0m \u001b[0mkwds\u001b[0m\u001b[0;34m[\u001b[0m\u001b[0;34m\"has_index_names\"\u001b[0m\u001b[0;34m]\u001b[0m\u001b[0;34m\u001b[0m\u001b[0;34m\u001b[0m\u001b[0m\n\u001b[1;32m    879\u001b[0m \u001b[0;34m\u001b[0m\u001b[0m\n\u001b[0;32m--> 880\u001b[0;31m         \u001b[0mself\u001b[0m\u001b[0;34m.\u001b[0m\u001b[0m_make_engine\u001b[0m\u001b[0;34m(\u001b[0m\u001b[0mself\u001b[0m\u001b[0;34m.\u001b[0m\u001b[0mengine\u001b[0m\u001b[0;34m)\u001b[0m\u001b[0;34m\u001b[0m\u001b[0;34m\u001b[0m\u001b[0m\n\u001b[0m\u001b[1;32m    881\u001b[0m \u001b[0;34m\u001b[0m\u001b[0m\n\u001b[1;32m    882\u001b[0m     \u001b[0;32mdef\u001b[0m \u001b[0mclose\u001b[0m\u001b[0;34m(\u001b[0m\u001b[0mself\u001b[0m\u001b[0;34m)\u001b[0m\u001b[0;34m:\u001b[0m\u001b[0;34m\u001b[0m\u001b[0;34m\u001b[0m\u001b[0m\n",
      "\u001b[0;32m~/anaconda3/lib/python3.7/site-packages/pandas/io/parsers.py\u001b[0m in \u001b[0;36m_make_engine\u001b[0;34m(self, engine)\u001b[0m\n\u001b[1;32m   1112\u001b[0m     \u001b[0;32mdef\u001b[0m \u001b[0m_make_engine\u001b[0m\u001b[0;34m(\u001b[0m\u001b[0mself\u001b[0m\u001b[0;34m,\u001b[0m \u001b[0mengine\u001b[0m\u001b[0;34m=\u001b[0m\u001b[0;34m\"c\"\u001b[0m\u001b[0;34m)\u001b[0m\u001b[0;34m:\u001b[0m\u001b[0;34m\u001b[0m\u001b[0;34m\u001b[0m\u001b[0m\n\u001b[1;32m   1113\u001b[0m         \u001b[0;32mif\u001b[0m \u001b[0mengine\u001b[0m \u001b[0;34m==\u001b[0m \u001b[0;34m\"c\"\u001b[0m\u001b[0;34m:\u001b[0m\u001b[0;34m\u001b[0m\u001b[0;34m\u001b[0m\u001b[0m\n\u001b[0;32m-> 1114\u001b[0;31m             \u001b[0mself\u001b[0m\u001b[0;34m.\u001b[0m\u001b[0m_engine\u001b[0m \u001b[0;34m=\u001b[0m \u001b[0mCParserWrapper\u001b[0m\u001b[0;34m(\u001b[0m\u001b[0mself\u001b[0m\u001b[0;34m.\u001b[0m\u001b[0mf\u001b[0m\u001b[0;34m,\u001b[0m \u001b[0;34m**\u001b[0m\u001b[0mself\u001b[0m\u001b[0;34m.\u001b[0m\u001b[0moptions\u001b[0m\u001b[0;34m)\u001b[0m\u001b[0;34m\u001b[0m\u001b[0;34m\u001b[0m\u001b[0m\n\u001b[0m\u001b[1;32m   1115\u001b[0m         \u001b[0;32melse\u001b[0m\u001b[0;34m:\u001b[0m\u001b[0;34m\u001b[0m\u001b[0;34m\u001b[0m\u001b[0m\n\u001b[1;32m   1116\u001b[0m             \u001b[0;32mif\u001b[0m \u001b[0mengine\u001b[0m \u001b[0;34m==\u001b[0m \u001b[0;34m\"python\"\u001b[0m\u001b[0;34m:\u001b[0m\u001b[0;34m\u001b[0m\u001b[0;34m\u001b[0m\u001b[0m\n",
      "\u001b[0;32m~/anaconda3/lib/python3.7/site-packages/pandas/io/parsers.py\u001b[0m in \u001b[0;36m__init__\u001b[0;34m(self, src, **kwds)\u001b[0m\n\u001b[1;32m   1889\u001b[0m         \u001b[0mkwds\u001b[0m\u001b[0;34m[\u001b[0m\u001b[0;34m\"usecols\"\u001b[0m\u001b[0;34m]\u001b[0m \u001b[0;34m=\u001b[0m \u001b[0mself\u001b[0m\u001b[0;34m.\u001b[0m\u001b[0musecols\u001b[0m\u001b[0;34m\u001b[0m\u001b[0;34m\u001b[0m\u001b[0m\n\u001b[1;32m   1890\u001b[0m \u001b[0;34m\u001b[0m\u001b[0m\n\u001b[0;32m-> 1891\u001b[0;31m         \u001b[0mself\u001b[0m\u001b[0;34m.\u001b[0m\u001b[0m_reader\u001b[0m \u001b[0;34m=\u001b[0m \u001b[0mparsers\u001b[0m\u001b[0;34m.\u001b[0m\u001b[0mTextReader\u001b[0m\u001b[0;34m(\u001b[0m\u001b[0msrc\u001b[0m\u001b[0;34m,\u001b[0m \u001b[0;34m**\u001b[0m\u001b[0mkwds\u001b[0m\u001b[0;34m)\u001b[0m\u001b[0;34m\u001b[0m\u001b[0;34m\u001b[0m\u001b[0m\n\u001b[0m\u001b[1;32m   1892\u001b[0m         \u001b[0mself\u001b[0m\u001b[0;34m.\u001b[0m\u001b[0munnamed_cols\u001b[0m \u001b[0;34m=\u001b[0m \u001b[0mself\u001b[0m\u001b[0;34m.\u001b[0m\u001b[0m_reader\u001b[0m\u001b[0;34m.\u001b[0m\u001b[0munnamed_cols\u001b[0m\u001b[0;34m\u001b[0m\u001b[0;34m\u001b[0m\u001b[0m\n\u001b[1;32m   1893\u001b[0m \u001b[0;34m\u001b[0m\u001b[0m\n",
      "\u001b[0;32mpandas/_libs/parsers.pyx\u001b[0m in \u001b[0;36mpandas._libs.parsers.TextReader.__cinit__\u001b[0;34m()\u001b[0m\n",
      "\u001b[0;32mpandas/_libs/parsers.pyx\u001b[0m in \u001b[0;36mpandas._libs.parsers.TextReader._setup_parser_source\u001b[0;34m()\u001b[0m\n",
      "\u001b[0;31mFileNotFoundError\u001b[0m: [Errno 2] File results/results_P10_ep15_N720_B65_min10_max25_L100.csv does not exist: 'results/results_P10_ep15_N720_B65_min10_max25_L100.csv'"
     ]
    }
   ],
   "source": [
    "df = pd.read_csv(\"results/results_P10_ep15_N720_B65_min10_max25_L100.csv\")"
   ]
  },
  {
   "cell_type": "code",
   "execution_count": 7,
   "metadata": {},
   "outputs": [
    {
     "ename": "NameError",
     "evalue": "name 'df' is not defined",
     "output_type": "error",
     "traceback": [
      "\u001b[0;31m---------------------------------------------------------------------------\u001b[0m",
      "\u001b[0;31mNameError\u001b[0m                                 Traceback (most recent call last)",
      "\u001b[0;32m<ipython-input-7-c657b1e73045>\u001b[0m in \u001b[0;36m<module>\u001b[0;34m\u001b[0m\n\u001b[1;32m      3\u001b[0m \u001b[0;34m\u001b[0m\u001b[0m\n\u001b[1;32m      4\u001b[0m \u001b[0mwinners\u001b[0m \u001b[0;34m=\u001b[0m \u001b[0;34m[\u001b[0m\u001b[0;34m]\u001b[0m\u001b[0;34m\u001b[0m\u001b[0;34m\u001b[0m\u001b[0m\n\u001b[0;32m----> 5\u001b[0;31m \u001b[0;32mfor\u001b[0m \u001b[0mi\u001b[0m\u001b[0;34m,\u001b[0m \u001b[0mrow\u001b[0m \u001b[0;32min\u001b[0m \u001b[0mdf\u001b[0m\u001b[0;34m.\u001b[0m\u001b[0miterrows\u001b[0m\u001b[0;34m(\u001b[0m\u001b[0;34m)\u001b[0m\u001b[0;34m:\u001b[0m\u001b[0;34m\u001b[0m\u001b[0;34m\u001b[0m\u001b[0m\n\u001b[0m\u001b[1;32m      6\u001b[0m     \u001b[0mwin\u001b[0m \u001b[0;34m=\u001b[0m \u001b[0;34m[\u001b[0m\u001b[0;34m]\u001b[0m\u001b[0;34m\u001b[0m\u001b[0;34m\u001b[0m\u001b[0m\n\u001b[1;32m      7\u001b[0m     \u001b[0;32mfor\u001b[0m \u001b[0mi\u001b[0m \u001b[0;32min\u001b[0m \u001b[0mrange\u001b[0m\u001b[0;34m(\u001b[0m\u001b[0;36m1\u001b[0m\u001b[0;34m,\u001b[0m\u001b[0;36m10\u001b[0m\u001b[0;34m)\u001b[0m\u001b[0;34m:\u001b[0m\u001b[0;34m\u001b[0m\u001b[0;34m\u001b[0m\u001b[0m\n",
      "\u001b[0;31mNameError\u001b[0m: name 'df' is not defined"
     ]
    }
   ],
   "source": [
    "from collections import Counter\n",
    "from matplotlib import pyplot as plt\n",
    "\n",
    "winners = []\n",
    "for i, row in df.iterrows():\n",
    "    win = []\n",
    "    for i in range(1,10):\n",
    "        get = \"k_\" + str(i) + \"_winners\"\n",
    "        win.append(int(row[get]))\n",
    "    winners.append(win)\n",
    "    \n",
    "winner_sets = []\n",
    "for i, result in enumerate(winners):\n",
    "    winner_sets.append(len(set(result)))\n",
    "    \n",
    "c = Counter(winner_sets)\n",
    "plt.bar(list(c.keys()), c.values())\n",
    "plt.xlabel(\"Different winning sets\")\n",
    "plt.ylabel(\"Runs\")\n",
    "plt.show()"
   ]
  },
  {
   "cell_type": "markdown",
   "metadata": {},
   "source": [
    "# Epistemic accuracy"
   ]
  },
  {
   "cell_type": "code",
   "execution_count": 8,
   "metadata": {},
   "outputs": [],
   "source": [
    "from collections import defaultdict\n",
    "from sklearn.preprocessing import normalize\n",
    "\n",
    "\n",
    "def epistemic_topk(probs, k, N):\n",
    "    votes = []\n",
    "    projects = list(range(len(probs)))\n",
    "    # Create noisy prob vectors for voters\n",
    "    probs = np.tile(probs, (N,1))\n",
    "    noise = np.random.normal(0.07, 0.05, (N, len(projects)))\n",
    "    probs += noise\n",
    "    # Set all negative probs to positive number and \n",
    "    probs[probs < 0] = 0.0001\n",
    "    probs = normalize(probs, \"l1\", axis=1)\n",
    "    # Every voters uses prob distr to vote\n",
    "    for i in range(N):\n",
    "        vote = np.random.choice(projects, k, replace=False, p=probs[i])\n",
    "        votes += list(vote)\n",
    "    return Counter(votes)\n"
   ]
  },
  {
   "cell_type": "code",
   "execution_count": 9,
   "metadata": {},
   "outputs": [],
   "source": [
    "P = 10 \n",
    "epsilon = 10\n",
    "N = 500\n",
    "budget = 40\n",
    "min_prize = 5\n",
    "max_prize = 25"
   ]
  },
  {
   "cell_type": "code",
   "execution_count": 10,
   "metadata": {},
   "outputs": [],
   "source": [
    "values = top_k.make_base_util(P)\n",
    "probs = values / np.sum(values)\n",
    "prizes = top_k.make_projects(min_prize, max_prize, P)\n",
    "possible_sets = top_k.get_possible_sets(prizes, budget)\n",
    "best_set = top_k.best_outcome(values, possible_sets)"
   ]
  },
  {
   "cell_type": "code",
   "execution_count": 11,
   "metadata": {},
   "outputs": [],
   "source": [
    "utilities = top_k.make_voter_utils(values, epsilon, N)\n"
   ]
  },
  {
   "cell_type": "code",
   "execution_count": 12,
   "metadata": {},
   "outputs": [
    {
     "name": "stdout",
     "output_type": "stream",
     "text": [
      "---------k------------ 1\n",
      "Counter({8: 96, 9: 93, 0: 88, 1: 62, 5: 43, 3: 31, 7: 25, 6: 23, 4: 22, 2: 17})\n"
     ]
    },
    {
     "ename": "NameError",
     "evalue": "name 'project_prizes' is not defined",
     "output_type": "error",
     "traceback": [
      "\u001b[0;31m---------------------------------------------------------------------------\u001b[0m",
      "\u001b[0;31mNameError\u001b[0m                                 Traceback (most recent call last)",
      "\u001b[0;32m<ipython-input-12-8baad212ae75>\u001b[0m in \u001b[0;36m<module>\u001b[0;34m\u001b[0m\n\u001b[1;32m      6\u001b[0m \u001b[0;34m\u001b[0m\u001b[0m\n\u001b[1;32m      7\u001b[0m     \u001b[0;31m# determine the winning projects\u001b[0m\u001b[0;34m\u001b[0m\u001b[0;34m\u001b[0m\u001b[0;34m\u001b[0m\u001b[0m\n\u001b[0;32m----> 8\u001b[0;31m     \u001b[0mwinners\u001b[0m \u001b[0;34m=\u001b[0m \u001b[0mtop_k\u001b[0m\u001b[0;34m.\u001b[0m\u001b[0mgreedy_allocation\u001b[0m\u001b[0;34m(\u001b[0m\u001b[0mvotes\u001b[0m\u001b[0;34m,\u001b[0m \u001b[0mproject_prizes\u001b[0m\u001b[0;34m,\u001b[0m \u001b[0mbudget\u001b[0m\u001b[0;34m)\u001b[0m\u001b[0;34m\u001b[0m\u001b[0;34m\u001b[0m\u001b[0m\n\u001b[0m\u001b[1;32m      9\u001b[0m \u001b[0;34m\u001b[0m\u001b[0m\n\u001b[1;32m     10\u001b[0m     \u001b[0;31m# Epistemic accuracy\u001b[0m\u001b[0;34m\u001b[0m\u001b[0;34m\u001b[0m\u001b[0;34m\u001b[0m\u001b[0m\n",
      "\u001b[0;31mNameError\u001b[0m: name 'project_prizes' is not defined"
     ]
    }
   ],
   "source": [
    "for k in range(1, P):\n",
    "    print(\"---------k------------\", k)\n",
    "    # calculate scores for all projects\n",
    "    votes = epistemic_topk(probs, k,  N)\n",
    "    print(votes)\n",
    "    \n",
    "    # determine the winning projects\n",
    "    winners = top_k.greedy_allocation(votes, project_prizes, budget)\n",
    "        \n",
    "    # Epistemic accuracy\n",
    "    print(\"win:\", list(winners), \"--best\",  best_set[0])\n",
    "    correct = 0\n",
    "    for alt in list(winners):\n",
    "        if alt in best_set[0]:\n",
    "            correct += 1\n",
    "    \n",
    "    acc = correct/len(best_set[0])\n",
    "    print(acc)\n",
    "                \n"
   ]
  },
  {
   "cell_type": "markdown",
   "metadata": {
    "collapsed": true
   },
   "source": [
    "# Different base utils"
   ]
  },
  {
   "cell_type": "code",
   "execution_count": 46,
   "metadata": {},
   "outputs": [],
   "source": [
    "P = 10 \n",
    "epsilon = 10\n",
    "N = 500\n",
    "budget = 40\n",
    "min_prize = 5\n",
    "max_prize = 25"
   ]
  },
  {
   "cell_type": "code",
   "execution_count": 47,
   "metadata": {},
   "outputs": [],
   "source": [
    "prizes = top_k.make_projects(min_prize, max_prize, P)\n",
    "possible_sets = top_k.get_possible_sets(prizes, budget)\n",
    "# best_set = top_k.best_outcome(values, possible_sets)\n",
    "max_set, max_total_util = top_k.max_utility(possible_sets, utilities)"
   ]
  },
  {
   "cell_type": "code",
   "execution_count": 48,
   "metadata": {},
   "outputs": [],
   "source": [
    "# Create different base utilities \n",
    "base_util, vote_util = [], []\n",
    "for i in range(5):\n",
    "    util = top_k.make_base_util(P)\n",
    "    base_util.append(util)    \n",
    "    utilities = top_k.make_voter_utils(util, epsilon, int(N/5))\n",
    "    vote_util.append(utilities)\n",
    "voter_utilities = np.vstack(vote_util)"
   ]
  },
  {
   "cell_type": "code",
   "execution_count": 49,
   "metadata": {},
   "outputs": [
    {
     "name": "stdout",
     "output_type": "stream",
     "text": [
      "---------k------------ 1\n",
      "votes: Counter({4: 68, 6: 61, 3: 59, 9: 55, 5: 48, 2: 45, 0: 45, 7: 45, 1: 40, 8: 34})\n",
      "{3, 4, 6}\n",
      "util 0.2846417040089963\n",
      "egal 0.06227410335165755\n",
      "comp 10.3\n",
      "dist 109.30327937474125\n",
      "---------k------------ 2\n",
      "votes: Counter({4: 131, 3: 118, 6: 107, 9: 104, 2: 100, 5: 96, 0: 91, 1: 87, 7: 85, 8: 81})\n",
      "{3, 4, 6}\n",
      "util 0.2846417040089963\n",
      "egal 0.06227410335165755\n",
      "comp 10.3\n",
      "dist 109.30327937474125\n",
      "---------k------------ 3\n",
      "votes: Counter({4: 199, 3: 165, 9: 154, 6: 148, 2: 148, 8: 145, 5: 143, 7: 138, 0: 134, 1: 126})\n",
      "{3, 4, 6}\n",
      "util 0.2846417040089963\n",
      "egal 0.06227410335165755\n",
      "comp 10.3\n",
      "dist 109.30327937474125\n",
      "---------k------------ 4\n",
      "votes: Counter({4: 250, 3: 219, 8: 202, 9: 200, 2: 196, 6: 195, 0: 193, 7: 185, 5: 184, 1: 176})\n",
      "{3, 4, 6}\n",
      "util 0.2846417040089963\n",
      "egal 0.06227410335165755\n",
      "comp 10.3\n",
      "dist 109.30327937474125\n",
      "---------k------------ 5\n",
      "votes: Counter({4: 312, 2: 252, 3: 251, 0: 249, 8: 247, 7: 244, 9: 243, 5: 241, 6: 231, 1: 230})\n",
      "{8, 2, 4}\n",
      "util 0.300749097684187\n",
      "egal 0.09554843718117564\n",
      "comp 15.55\n",
      "dist 103.44926031222329\n",
      "---------k------------ 6\n",
      "votes: Counter({4: 350, 2: 313, 8: 304, 7: 299, 0: 297, 3: 296, 9: 292, 5: 290, 6: 286, 1: 273})\n",
      "{8, 2, 4}\n",
      "util 0.300749097684187\n",
      "egal 0.09554843718117564\n",
      "comp 15.55\n",
      "dist 103.44926031222329\n",
      "---------k------------ 7\n",
      "votes: Counter({4: 401, 2: 375, 8: 354, 5: 347, 3: 346, 0: 345, 9: 340, 7: 339, 6: 337, 1: 316})\n",
      "{8, 2, 4}\n",
      "util 0.300749097684187\n",
      "egal 0.09554843718117564\n",
      "comp 15.55\n",
      "dist 103.44926031222329\n",
      "---------k------------ 8\n",
      "votes: Counter({4: 434, 2: 414, 0: 406, 3: 400, 5: 400, 7: 397, 8: 397, 6: 393, 9: 389, 1: 370})\n",
      "{8, 2, 4}\n",
      "util 0.300749097684187\n",
      "egal 0.09554843718117564\n",
      "comp 15.55\n",
      "dist 103.44926031222329\n",
      "---------k------------ 9\n",
      "votes: Counter({2: 463, 4: 462, 6: 455, 7: 453, 5: 452, 9: 449, 3: 447, 8: 447, 0: 444, 1: 428})\n",
      "{2, 4, 6}\n",
      "util 0.25640733505083296\n",
      "egal 0.050179157492178605\n",
      "comp 14.26\n",
      "dist 121.33924206509029\n",
      "---------k------------ 10\n",
      "votes: Counter({3: 500, 0: 500, 7: 500, 6: 500, 4: 500, 8: 500, 1: 500, 9: 500, 5: 500, 2: 500})\n",
      "{3, 4, 6}\n",
      "util 0.2846417040089963\n",
      "egal 0.06227410335165755\n",
      "comp 10.3\n",
      "dist 109.30327937474125\n"
     ]
    }
   ],
   "source": [
    "util_scores = []\n",
    "egal_scores = []\n",
    "comp_scores = []\n",
    "dist_scores = []\n",
    "\n",
    "\n",
    "for k in range(1, P+1):\n",
    "        print(\"---------k------------\", k)\n",
    "        # calculate scores for all projects\n",
    "        votes = top_k.k_approval(k, voter_utilities, P)\n",
    "        print(f\"votes: {votes}\")\n",
    "        \n",
    "        # determine the winning projects\n",
    "        winners = top_k.greedy_allocation(votes, prizes, budget)\n",
    "        print(winners)\n",
    "        # calculate loss\n",
    "        util_score = top_k.calculate_sw(utilities, winners)\n",
    "        egal_score = top_k.calculate_sw(utilities, winners, egal=True)\n",
    "        # nash_score = calculate_sw(utilities, winners, nash=True)\n",
    "        nash_score = 0\n",
    "\n",
    "        comp_score = top_k.calc_compare_score(winners, max_set, prizes)\n",
    "        dist_score = max_total_util / util_score\n",
    "\n",
    "        print(\"util\", util_score)\n",
    "        print(\"egal\", egal_score)\n",
    "        print(\"comp\", comp_score)\n",
    "        print(\"dist\", dist_score)\n",
    "        \n",
    "        util_scores.append(util_score)\n",
    "        egal_scores.append(egal_score)\n",
    "        comp_scores.append(comp_score)\n",
    "        dist_scores.append(dist_score)"
   ]
  },
  {
   "cell_type": "code",
   "execution_count": 50,
   "metadata": {},
   "outputs": [],
   "source": [
    "from matplotlib import pyplot as plt\n",
    "\n",
    "def plot(name, scores):\n",
    "    x = range(1, P+1)\n",
    "    plt.bar(x, scores)\n",
    "\n",
    "    plt.title(name, fontsize=20)\n",
    "    plt.xticks(range(1,10))\n",
    "\n",
    "    plt.xlabel(\"k-value\", fontsize=15)\n",
    "    plt.ylabel(\"score\", fontsize=15)\n",
    "    plt.show()"
   ]
  },
  {
   "cell_type": "code",
   "execution_count": 51,
   "metadata": {},
   "outputs": [
    {
     "data": {
      "image/png": "[encoded data removed]",
      "text/plain": [
       "<Figure size 432x288 with 1 Axes>"
      ]
     },
     "metadata": {
      "needs_background": "light"
     },
     "output_type": "display_data"
    },
    {
     "data": {
      "image/png": "[encoded data removed]",
      "text/plain": [
       "<Figure size 432x288 with 1 Axes>"
      ]
     },
     "metadata": {
      "needs_background": "light"
     },
     "output_type": "display_data"
    },
    {
     "data": {
      "image/png": "[encoded data removed]",
      "text/plain": [
       "<Figure size 432x288 with 1 Axes>"
      ]
     },
     "metadata": {
      "needs_background": "light"
     },
     "output_type": "display_data"
    },
    {
     "data": {
      "image/png": "[encoded data removed]",
      "text/plain": [
       "<Figure size 432x288 with 1 Axes>"
      ]
     },
     "metadata": {
      "needs_background": "light"
     },
     "output_type": "display_data"
    }
   ],
   "source": [
    "plot(\"util\", util_scores)\n",
    "plot(\"egal\", egal_scores)\n",
    "plot(\"comp\", comp_scores)\n",
    "plot(\"dist\", dist_scores)"
   ]
  },
  {
   "cell_type": "code",
   "execution_count": null,
   "metadata": {},
   "outputs": [],
   "source": []
  }
 ],
 "metadata": {
  "kernelspec": {
   "display_name": "Python 3",
   "language": "python",
   "name": "python3"
  },
  "language_info": {
   "codemirror_mode": {
    "name": "ipython",
    "version": 3
   },
   "file_extension": ".py",
   "mimetype": "text/x-python",
   "name": "python",
   "nbconvert_exporter": "python",
   "pygments_lexer": "ipython3",
   "version": "3.7.6"
  }
 },
 "nbformat": 4,
 "nbformat_minor": 2
}
