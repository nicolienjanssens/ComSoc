{
 "cells": [
  {
   "cell_type": "code",
   "execution_count": 1,
   "metadata": {
    "collapsed": true,
    "deletable": true,
    "editable": true
   },
   "outputs": [],
   "source": [
    "import top_k\n",
    "import numpy as np\n",
    "import pandas as pd"
   ]
  },
  {
   "cell_type": "markdown",
   "metadata": {
    "deletable": true,
    "editable": true
   },
   "source": [
    "# Namaak benade 2018"
   ]
  },
  {
   "cell_type": "code",
   "execution_count": 3,
   "metadata": {
    "collapsed": false,
    "deletable": true,
    "editable": true
   },
   "outputs": [],
   "source": [
    "# using project costs and utils from benade 2018\n",
    "P = 10\n",
    "budget = 65\n",
    "\n",
    "project_prizes= {0:10, 1:20, 2:3, 3:8, 4:5, 5:5, 6:10, 7:10, 8:30, 9:25}\n",
    "possible_sets = top_k.get_possible_sets(project_prizes, budget)"
   ]
  },
  {
   "cell_type": "code",
   "execution_count": null,
   "metadata": {
    "collapsed": true,
    "deletable": true,
    "editable": true
   },
   "outputs": [],
   "source": [
    "N = 720\n",
    "epsilon = 15\n",
    "\n",
    "base_util = np.asarray([5.8, 2.3, 29.3, 9.5, 14.8, 9.4, 5.4, 14.9, 6.7, 1.9])\n",
    "utilities = top_k.make_voter_utils(base_util, epsilon, N)"
   ]
  },
  {
   "cell_type": "code",
   "execution_count": 4,
   "metadata": {
    "collapsed": false,
    "deletable": true,
    "editable": true
   },
   "outputs": [
    {
     "ename": "NameError",
     "evalue": "name 'possible_sets' is not defined",
     "output_type": "error",
     "traceback": [
      "\u001b[0;31m---------------------------------------------------------------------------\u001b[0m",
      "\u001b[0;31mNameError\u001b[0m                                 Traceback (most recent call last)",
      "\u001b[0;32m<ipython-input-4-35b43eab02e4>\u001b[0m in \u001b[0;36m<module>\u001b[0;34m\u001b[0m\n\u001b[0;32m----> 1\u001b[0;31m \u001b[0mmax_set\u001b[0m \u001b[0;34m=\u001b[0m \u001b[0mtop_k\u001b[0m\u001b[0;34m.\u001b[0m\u001b[0mmax_utility\u001b[0m\u001b[0;34m(\u001b[0m\u001b[0mpossible_sets\u001b[0m\u001b[0;34m,\u001b[0m \u001b[0mutilities\u001b[0m\u001b[0;34m)\u001b[0m\u001b[0;34m\u001b[0m\u001b[0;34m\u001b[0m\u001b[0m\n\u001b[0m",
      "\u001b[0;31mNameError\u001b[0m: name 'possible_sets' is not defined"
     ]
    }
   ],
   "source": [
    "max_set = top_k.max_utility(possible_sets, utilities)\n"
   ]
  },
  {
   "cell_type": "code",
   "execution_count": 5,
   "metadata": {
    "collapsed": false,
    "deletable": true,
    "editable": true
   },
   "outputs": [
    {
     "ename": "NameError",
     "evalue": "name 'P' is not defined",
     "output_type": "error",
     "traceback": [
      "\u001b[0;31m---------------------------------------------------------------------------\u001b[0m",
      "\u001b[0;31mNameError\u001b[0m                                 Traceback (most recent call last)",
      "\u001b[0;32m<ipython-input-5-2004dde608e0>\u001b[0m in \u001b[0;36m<module>\u001b[0;34m\u001b[0m\n\u001b[0;32m----> 1\u001b[0;31m \u001b[0;32mfor\u001b[0m \u001b[0mk\u001b[0m \u001b[0;32min\u001b[0m \u001b[0mrange\u001b[0m\u001b[0;34m(\u001b[0m\u001b[0;36m1\u001b[0m\u001b[0;34m,\u001b[0m \u001b[0mP\u001b[0m\u001b[0;34m)\u001b[0m\u001b[0;34m:\u001b[0m\u001b[0;34m\u001b[0m\u001b[0;34m\u001b[0m\u001b[0m\n\u001b[0m\u001b[1;32m      2\u001b[0m         \u001b[0mprint\u001b[0m\u001b[0;34m(\u001b[0m\u001b[0;34m\"---------k------------\"\u001b[0m\u001b[0;34m,\u001b[0m \u001b[0mk\u001b[0m\u001b[0;34m)\u001b[0m\u001b[0;34m\u001b[0m\u001b[0;34m\u001b[0m\u001b[0m\n\u001b[1;32m      3\u001b[0m         \u001b[0;31m# calculate scores for all projects\u001b[0m\u001b[0;34m\u001b[0m\u001b[0;34m\u001b[0m\u001b[0;34m\u001b[0m\u001b[0m\n\u001b[1;32m      4\u001b[0m         \u001b[0mvotes\u001b[0m \u001b[0;34m=\u001b[0m \u001b[0mtop_k\u001b[0m\u001b[0;34m.\u001b[0m\u001b[0mk_approval\u001b[0m\u001b[0;34m(\u001b[0m\u001b[0mk\u001b[0m\u001b[0;34m,\u001b[0m \u001b[0mutilities\u001b[0m\u001b[0;34m,\u001b[0m \u001b[0mP\u001b[0m\u001b[0;34m)\u001b[0m\u001b[0;34m\u001b[0m\u001b[0;34m\u001b[0m\u001b[0m\n\u001b[1;32m      5\u001b[0m         \u001b[0mprint\u001b[0m\u001b[0;34m(\u001b[0m\u001b[0mvotes\u001b[0m\u001b[0;34m)\u001b[0m\u001b[0;34m\u001b[0m\u001b[0;34m\u001b[0m\u001b[0m\n",
      "\u001b[0;31mNameError\u001b[0m: name 'P' is not defined"
     ]
    }
   ],
   "source": [
    "for k in range(1, P):\n",
    "        print(\"---------k------------\", k)\n",
    "        # calculate scores for all projects\n",
    "        votes = top_k.k_approval(k, utilities, P)\n",
    "        print(votes)\n",
    "        # determine the winning projects\n",
    "        winners = top_k.greedy_allocation(votes, project_prizes, budget)\n",
    "        \n",
    "        # calculate loss\n",
    "        util_score = top_k.calculate_sw(utilities, winners)\n",
    "        egal_score = top_k.calculate_sw(utilities, winners, egal=True)\n",
    "        # nash_score = calculate_sw(utilities, winners, nash=True)\n",
    "        nash_score = 0\n",
    "\n",
    "        comp_score = top_k.calc_compare_score(winners, max_set, project_prizes)\n",
    "        dist_score = top_k.calc_dist_score(winners, max_set, utilities)\n",
    "\n",
    "#         print(\"util\", util_score)\n",
    "#         print(\"egal\", egal_score)\n",
    "#         print(\"comp\", comp_score)\n",
    "#         print(\"dist\", dist_score)"
   ]
  },
  {
   "cell_type": "code",
   "execution_count": 6,
   "metadata": {
    "collapsed": false,
    "deletable": true,
    "editable": true
   },
   "outputs": [
    {
     "ename": "FileNotFoundError",
     "evalue": "[Errno 2] File results/results_P10_ep15_N720_B65_min10_max25_L100.csv does not exist: 'results/results_P10_ep15_N720_B65_min10_max25_L100.csv'",
     "output_type": "error",
     "traceback": [
      "\u001b[0;31m---------------------------------------------------------------------------\u001b[0m",
      "\u001b[0;31mFileNotFoundError\u001b[0m                         Traceback (most recent call last)",
      "\u001b[0;32m<ipython-input-6-c3835a4ee8d2>\u001b[0m in \u001b[0;36m<module>\u001b[0;34m\u001b[0m\n\u001b[0;32m----> 1\u001b[0;31m \u001b[0mdf\u001b[0m \u001b[0;34m=\u001b[0m \u001b[0mpd\u001b[0m\u001b[0;34m.\u001b[0m\u001b[0mread_csv\u001b[0m\u001b[0;34m(\u001b[0m\u001b[0;34m\"results/results_P10_ep15_N720_B65_min10_max25_L100.csv\"\u001b[0m\u001b[0;34m)\u001b[0m\u001b[0;34m\u001b[0m\u001b[0;34m\u001b[0m\u001b[0m\n\u001b[0m",
      "\u001b[0;32m~/anaconda3/lib/python3.7/site-packages/pandas/io/parsers.py\u001b[0m in \u001b[0;36mparser_f\u001b[0;34m(filepath_or_buffer, sep, delimiter, header, names, index_col, usecols, squeeze, prefix, mangle_dupe_cols, dtype, engine, converters, true_values, false_values, skipinitialspace, skiprows, skipfooter, nrows, na_values, keep_default_na, na_filter, verbose, skip_blank_lines, parse_dates, infer_datetime_format, keep_date_col, date_parser, dayfirst, cache_dates, iterator, chunksize, compression, thousands, decimal, lineterminator, quotechar, quoting, doublequote, escapechar, comment, encoding, dialect, error_bad_lines, warn_bad_lines, delim_whitespace, low_memory, memory_map, float_precision)\u001b[0m\n\u001b[1;32m    674\u001b[0m         )\n\u001b[1;32m    675\u001b[0m \u001b[0;34m\u001b[0m\u001b[0m\n\u001b[0;32m--> 676\u001b[0;31m         \u001b[0;32mreturn\u001b[0m \u001b[0m_read\u001b[0m\u001b[0;34m(\u001b[0m\u001b[0mfilepath_or_buffer\u001b[0m\u001b[0;34m,\u001b[0m \u001b[0mkwds\u001b[0m\u001b[0;34m)\u001b[0m\u001b[0;34m\u001b[0m\u001b[0;34m\u001b[0m\u001b[0m\n\u001b[0m\u001b[1;32m    677\u001b[0m \u001b[0;34m\u001b[0m\u001b[0m\n\u001b[1;32m    678\u001b[0m     \u001b[0mparser_f\u001b[0m\u001b[0;34m.\u001b[0m\u001b[0m__name__\u001b[0m \u001b[0;34m=\u001b[0m \u001b[0mname\u001b[0m\u001b[0;34m\u001b[0m\u001b[0;34m\u001b[0m\u001b[0m\n",
      "\u001b[0;32m~/anaconda3/lib/python3.7/site-packages/pandas/io/parsers.py\u001b[0m in \u001b[0;36m_read\u001b[0;34m(filepath_or_buffer, kwds)\u001b[0m\n\u001b[1;32m    446\u001b[0m \u001b[0;34m\u001b[0m\u001b[0m\n\u001b[1;32m    447\u001b[0m     \u001b[0;31m# Create the parser.\u001b[0m\u001b[0;34m\u001b[0m\u001b[0;34m\u001b[0m\u001b[0;34m\u001b[0m\u001b[0m\n\u001b[0;32m--> 448\u001b[0;31m     \u001b[0mparser\u001b[0m \u001b[0;34m=\u001b[0m \u001b[0mTextFileReader\u001b[0m\u001b[0;34m(\u001b[0m\u001b[0mfp_or_buf\u001b[0m\u001b[0;34m,\u001b[0m \u001b[0;34m**\u001b[0m\u001b[0mkwds\u001b[0m\u001b[0;34m)\u001b[0m\u001b[0;34m\u001b[0m\u001b[0;34m\u001b[0m\u001b[0m\n\u001b[0m\u001b[1;32m    449\u001b[0m \u001b[0;34m\u001b[0m\u001b[0m\n\u001b[1;32m    450\u001b[0m     \u001b[0;32mif\u001b[0m \u001b[0mchunksize\u001b[0m \u001b[0;32mor\u001b[0m \u001b[0miterator\u001b[0m\u001b[0;34m:\u001b[0m\u001b[0;34m\u001b[0m\u001b[0;34m\u001b[0m\u001b[0m\n",
      "\u001b[0;32m~/anaconda3/lib/python3.7/site-packages/pandas/io/parsers.py\u001b[0m in \u001b[0;36m__init__\u001b[0;34m(self, f, engine, **kwds)\u001b[0m\n\u001b[1;32m    878\u001b[0m             \u001b[0mself\u001b[0m\u001b[0;34m.\u001b[0m\u001b[0moptions\u001b[0m\u001b[0;34m[\u001b[0m\u001b[0;34m\"has_index_names\"\u001b[0m\u001b[0;34m]\u001b[0m \u001b[0;34m=\u001b[0m \u001b[0mkwds\u001b[0m\u001b[0;34m[\u001b[0m\u001b[0;34m\"has_index_names\"\u001b[0m\u001b[0;34m]\u001b[0m\u001b[0;34m\u001b[0m\u001b[0;34m\u001b[0m\u001b[0m\n\u001b[1;32m    879\u001b[0m \u001b[0;34m\u001b[0m\u001b[0m\n\u001b[0;32m--> 880\u001b[0;31m         \u001b[0mself\u001b[0m\u001b[0;34m.\u001b[0m\u001b[0m_make_engine\u001b[0m\u001b[0;34m(\u001b[0m\u001b[0mself\u001b[0m\u001b[0;34m.\u001b[0m\u001b[0mengine\u001b[0m\u001b[0;34m)\u001b[0m\u001b[0;34m\u001b[0m\u001b[0;34m\u001b[0m\u001b[0m\n\u001b[0m\u001b[1;32m    881\u001b[0m \u001b[0;34m\u001b[0m\u001b[0m\n\u001b[1;32m    882\u001b[0m     \u001b[0;32mdef\u001b[0m \u001b[0mclose\u001b[0m\u001b[0;34m(\u001b[0m\u001b[0mself\u001b[0m\u001b[0;34m)\u001b[0m\u001b[0;34m:\u001b[0m\u001b[0;34m\u001b[0m\u001b[0;34m\u001b[0m\u001b[0m\n",
      "\u001b[0;32m~/anaconda3/lib/python3.7/site-packages/pandas/io/parsers.py\u001b[0m in \u001b[0;36m_make_engine\u001b[0;34m(self, engine)\u001b[0m\n\u001b[1;32m   1112\u001b[0m     \u001b[0;32mdef\u001b[0m \u001b[0m_make_engine\u001b[0m\u001b[0;34m(\u001b[0m\u001b[0mself\u001b[0m\u001b[0;34m,\u001b[0m \u001b[0mengine\u001b[0m\u001b[0;34m=\u001b[0m\u001b[0;34m\"c\"\u001b[0m\u001b[0;34m)\u001b[0m\u001b[0;34m:\u001b[0m\u001b[0;34m\u001b[0m\u001b[0;34m\u001b[0m\u001b[0m\n\u001b[1;32m   1113\u001b[0m         \u001b[0;32mif\u001b[0m \u001b[0mengine\u001b[0m \u001b[0;34m==\u001b[0m \u001b[0;34m\"c\"\u001b[0m\u001b[0;34m:\u001b[0m\u001b[0;34m\u001b[0m\u001b[0;34m\u001b[0m\u001b[0m\n\u001b[0;32m-> 1114\u001b[0;31m             \u001b[0mself\u001b[0m\u001b[0;34m.\u001b[0m\u001b[0m_engine\u001b[0m \u001b[0;34m=\u001b[0m \u001b[0mCParserWrapper\u001b[0m\u001b[0;34m(\u001b[0m\u001b[0mself\u001b[0m\u001b[0;34m.\u001b[0m\u001b[0mf\u001b[0m\u001b[0;34m,\u001b[0m \u001b[0;34m**\u001b[0m\u001b[0mself\u001b[0m\u001b[0;34m.\u001b[0m\u001b[0moptions\u001b[0m\u001b[0;34m)\u001b[0m\u001b[0;34m\u001b[0m\u001b[0;34m\u001b[0m\u001b[0m\n\u001b[0m\u001b[1;32m   1115\u001b[0m         \u001b[0;32melse\u001b[0m\u001b[0;34m:\u001b[0m\u001b[0;34m\u001b[0m\u001b[0;34m\u001b[0m\u001b[0m\n\u001b[1;32m   1116\u001b[0m             \u001b[0;32mif\u001b[0m \u001b[0mengine\u001b[0m \u001b[0;34m==\u001b[0m \u001b[0;34m\"python\"\u001b[0m\u001b[0;34m:\u001b[0m\u001b[0;34m\u001b[0m\u001b[0;34m\u001b[0m\u001b[0m\n",
      "\u001b[0;32m~/anaconda3/lib/python3.7/site-packages/pandas/io/parsers.py\u001b[0m in \u001b[0;36m__init__\u001b[0;34m(self, src, **kwds)\u001b[0m\n\u001b[1;32m   1889\u001b[0m         \u001b[0mkwds\u001b[0m\u001b[0;34m[\u001b[0m\u001b[0;34m\"usecols\"\u001b[0m\u001b[0;34m]\u001b[0m \u001b[0;34m=\u001b[0m \u001b[0mself\u001b[0m\u001b[0;34m.\u001b[0m\u001b[0musecols\u001b[0m\u001b[0;34m\u001b[0m\u001b[0;34m\u001b[0m\u001b[0m\n\u001b[1;32m   1890\u001b[0m \u001b[0;34m\u001b[0m\u001b[0m\n\u001b[0;32m-> 1891\u001b[0;31m         \u001b[0mself\u001b[0m\u001b[0;34m.\u001b[0m\u001b[0m_reader\u001b[0m \u001b[0;34m=\u001b[0m \u001b[0mparsers\u001b[0m\u001b[0;34m.\u001b[0m\u001b[0mTextReader\u001b[0m\u001b[0;34m(\u001b[0m\u001b[0msrc\u001b[0m\u001b[0;34m,\u001b[0m \u001b[0;34m**\u001b[0m\u001b[0mkwds\u001b[0m\u001b[0;34m)\u001b[0m\u001b[0;34m\u001b[0m\u001b[0;34m\u001b[0m\u001b[0m\n\u001b[0m\u001b[1;32m   1892\u001b[0m         \u001b[0mself\u001b[0m\u001b[0;34m.\u001b[0m\u001b[0munnamed_cols\u001b[0m \u001b[0;34m=\u001b[0m \u001b[0mself\u001b[0m\u001b[0;34m.\u001b[0m\u001b[0m_reader\u001b[0m\u001b[0;34m.\u001b[0m\u001b[0munnamed_cols\u001b[0m\u001b[0;34m\u001b[0m\u001b[0;34m\u001b[0m\u001b[0m\n\u001b[1;32m   1893\u001b[0m \u001b[0;34m\u001b[0m\u001b[0m\n",
      "\u001b[0;32mpandas/_libs/parsers.pyx\u001b[0m in \u001b[0;36mpandas._libs.parsers.TextReader.__cinit__\u001b[0;34m()\u001b[0m\n",
      "\u001b[0;32mpandas/_libs/parsers.pyx\u001b[0m in \u001b[0;36mpandas._libs.parsers.TextReader._setup_parser_source\u001b[0;34m()\u001b[0m\n",
      "\u001b[0;31mFileNotFoundError\u001b[0m: [Errno 2] File results/results_P10_ep15_N720_B65_min10_max25_L100.csv does not exist: 'results/results_P10_ep15_N720_B65_min10_max25_L100.csv'"
     ]
    }
   ],
   "source": [
    "df = pd.read_csv(\"results/results_P10_ep15_N720_B65_min10_max25_L100.csv\")"
   ]
  },
  {
   "cell_type": "code",
   "execution_count": 7,
   "metadata": {
    "collapsed": false,
    "deletable": true,
    "editable": true
   },
   "outputs": [
    {
     "ename": "NameError",
     "evalue": "name 'df' is not defined",
     "output_type": "error",
     "traceback": [
      "\u001b[0;31m---------------------------------------------------------------------------\u001b[0m",
      "\u001b[0;31mNameError\u001b[0m                                 Traceback (most recent call last)",
      "\u001b[0;32m<ipython-input-7-c657b1e73045>\u001b[0m in \u001b[0;36m<module>\u001b[0;34m\u001b[0m\n\u001b[1;32m      3\u001b[0m \u001b[0;34m\u001b[0m\u001b[0m\n\u001b[1;32m      4\u001b[0m \u001b[0mwinners\u001b[0m \u001b[0;34m=\u001b[0m \u001b[0;34m[\u001b[0m\u001b[0;34m]\u001b[0m\u001b[0;34m\u001b[0m\u001b[0;34m\u001b[0m\u001b[0m\n\u001b[0;32m----> 5\u001b[0;31m \u001b[0;32mfor\u001b[0m \u001b[0mi\u001b[0m\u001b[0;34m,\u001b[0m \u001b[0mrow\u001b[0m \u001b[0;32min\u001b[0m \u001b[0mdf\u001b[0m\u001b[0;34m.\u001b[0m\u001b[0miterrows\u001b[0m\u001b[0;34m(\u001b[0m\u001b[0;34m)\u001b[0m\u001b[0;34m:\u001b[0m\u001b[0;34m\u001b[0m\u001b[0;34m\u001b[0m\u001b[0m\n\u001b[0m\u001b[1;32m      6\u001b[0m     \u001b[0mwin\u001b[0m \u001b[0;34m=\u001b[0m \u001b[0;34m[\u001b[0m\u001b[0;34m]\u001b[0m\u001b[0;34m\u001b[0m\u001b[0;34m\u001b[0m\u001b[0m\n\u001b[1;32m      7\u001b[0m     \u001b[0;32mfor\u001b[0m \u001b[0mi\u001b[0m \u001b[0;32min\u001b[0m \u001b[0mrange\u001b[0m\u001b[0;34m(\u001b[0m\u001b[0;36m1\u001b[0m\u001b[0;34m,\u001b[0m\u001b[0;36m10\u001b[0m\u001b[0;34m)\u001b[0m\u001b[0;34m:\u001b[0m\u001b[0;34m\u001b[0m\u001b[0;34m\u001b[0m\u001b[0m\n",
      "\u001b[0;31mNameError\u001b[0m: name 'df' is not defined"
     ]
    }
   ],
   "source": [
    "from collections import Counter\n",
    "from matplotlib import pyplot as plt\n",
    "\n",
    "winners = []\n",
    "for i, row in df.iterrows():\n",
    "    win = []\n",
    "    for i in range(1,10):\n",
    "        get = \"k_\" + str(i) + \"_winners\"\n",
    "        win.append(int(row[get]))\n",
    "    winners.append(win)\n",
    "    \n",
    "winner_sets = []\n",
    "for i, result in enumerate(winners):\n",
    "    winner_sets.append(len(set(result)))\n",
    "    \n",
    "c = Counter(winner_sets)\n",
    "plt.bar(list(c.keys()), c.values())\n",
    "plt.xlabel(\"Different winning sets\")\n",
    "plt.ylabel(\"Runs\")\n",
    "plt.show()"
   ]
  },
  {
   "cell_type": "markdown",
   "metadata": {
    "deletable": true,
    "editable": true
   },
   "source": [
    "# Epistemic accuracy"
   ]
  },
  {
   "cell_type": "code",
   "execution_count": 2,
   "metadata": {
    "collapsed": true,
    "deletable": true,
    "editable": true
   },
   "outputs": [],
   "source": [
    "from collections import defaultdict\n",
    "from sklearn.preprocessing import normalize\n",
    "\n",
    "\n",
    "def epistemic_topk(probs, k, N):\n",
    "    votes = []\n",
    "    projects = list(range(len(probs)))\n",
    "    # Create noisy prob vectors for voters\n",
    "    probs = np.tile(probs, (N,1))\n",
    "    noise = np.random.normal(0.07, 0.05, (N, len(projects)))\n",
    "    probs += noise\n",
    "    # Set all negative probs to positive number and \n",
    "    probs[probs < 0] = 0.0001\n",
    "    probs = normalize(probs, \"l1\", axis=1)\n",
    "    # Every voters uses prob distr to vote\n",
    "    for i in range(N):\n",
    "        vote = np.random.choice(projects, k, replace=False, p=probs[i])\n",
    "        votes += list(vote)\n",
    "    return Counter(votes)\n"
   ]
  },
  {
   "cell_type": "code",
   "execution_count": 9,
   "metadata": {
    "collapsed": true,
    "deletable": true,
    "editable": true
   },
   "outputs": [],
   "source": [
    "P = 10 \n",
    "epsilon = 10\n",
    "N = 500\n",
    "budget = 40\n",
    "min_prize = 5\n",
    "max_prize = 25"
   ]
  },
  {
   "cell_type": "code",
   "execution_count": 10,
   "metadata": {
    "collapsed": true,
    "deletable": true,
    "editable": true
   },
   "outputs": [],
   "source": [
    "values = top_k.make_base_util(P)\n",
    "probs = values / np.sum(values)\n",
    "prizes = top_k.make_projects(min_prize, max_prize, P)\n",
    "possible_sets = top_k.get_possible_sets(prizes, budget)\n",
    "best_set = top_k.best_outcome(values, possible_sets)"
   ]
  },
  {
   "cell_type": "code",
   "execution_count": 11,
   "metadata": {
    "collapsed": true,
    "deletable": true,
    "editable": true
   },
   "outputs": [],
   "source": [
    "utilities = top_k.make_voter_utils(values, epsilon, N)\n"
   ]
  },
  {
   "cell_type": "code",
   "execution_count": 12,
   "metadata": {
    "collapsed": false,
    "deletable": true,
    "editable": true
   },
   "outputs": [
    {
     "name": "stdout",
     "output_type": "stream",
     "text": [
      "---------k------------ 1\n",
      "Counter({8: 96, 9: 93, 0: 88, 1: 62, 5: 43, 3: 31, 7: 25, 6: 23, 4: 22, 2: 17})\n"
     ]
    },
    {
     "ename": "NameError",
     "evalue": "name 'project_prizes' is not defined",
     "output_type": "error",
     "traceback": [
      "\u001b[0;31m---------------------------------------------------------------------------\u001b[0m",
      "\u001b[0;31mNameError\u001b[0m                                 Traceback (most recent call last)",
      "\u001b[0;32m<ipython-input-12-8baad212ae75>\u001b[0m in \u001b[0;36m<module>\u001b[0;34m\u001b[0m\n\u001b[1;32m      6\u001b[0m \u001b[0;34m\u001b[0m\u001b[0m\n\u001b[1;32m      7\u001b[0m     \u001b[0;31m# determine the winning projects\u001b[0m\u001b[0;34m\u001b[0m\u001b[0;34m\u001b[0m\u001b[0;34m\u001b[0m\u001b[0m\n\u001b[0;32m----> 8\u001b[0;31m     \u001b[0mwinners\u001b[0m \u001b[0;34m=\u001b[0m \u001b[0mtop_k\u001b[0m\u001b[0;34m.\u001b[0m\u001b[0mgreedy_allocation\u001b[0m\u001b[0;34m(\u001b[0m\u001b[0mvotes\u001b[0m\u001b[0;34m,\u001b[0m \u001b[0mproject_prizes\u001b[0m\u001b[0;34m,\u001b[0m \u001b[0mbudget\u001b[0m\u001b[0;34m)\u001b[0m\u001b[0;34m\u001b[0m\u001b[0;34m\u001b[0m\u001b[0m\n\u001b[0m\u001b[1;32m      9\u001b[0m \u001b[0;34m\u001b[0m\u001b[0m\n\u001b[1;32m     10\u001b[0m     \u001b[0;31m# Epistemic accuracy\u001b[0m\u001b[0;34m\u001b[0m\u001b[0;34m\u001b[0m\u001b[0;34m\u001b[0m\u001b[0m\n",
      "\u001b[0;31mNameError\u001b[0m: name 'project_prizes' is not defined"
     ]
    }
   ],
   "source": [
    "for k in range(1, P):\n",
    "    print(\"---------k------------\", k)\n",
    "    # calculate scores for all projects\n",
    "    votes = epistemic_topk(probs, k,  N)\n",
    "    print(votes)\n",
    "    \n",
    "    # determine the winning projects\n",
    "    winners = top_k.greedy_allocation(votes, project_prizes, budget)\n",
    "        \n",
    "    # Epistemic accuracy\n",
    "    print(\"win:\", list(winners), \"--best\",  best_set[0])\n",
    "    correct = 0\n",
    "    for alt in list(winners):\n",
    "        if alt in best_set[0]:\n",
    "            correct += 1\n",
    "    \n",
    "    acc = correct/len(best_set[0])\n",
    "    print(acc)\n",
    "                \n"
   ]
  },
  {
   "cell_type": "markdown",
   "metadata": {
    "collapsed": true,
    "deletable": true,
    "editable": true
   },
   "source": [
    "# Different base utils"
   ]
  },
  {
   "cell_type": "code",
   "execution_count": 77,
   "metadata": {
    "collapsed": true,
    "deletable": true,
    "editable": true
   },
   "outputs": [],
   "source": [
    "P = 10\n",
    "epsilon = 10\n",
    "N = 500\n",
    "budget = 40\n",
    "min_prize = 5\n",
    "max_prize = 15"
   ]
  },
  {
   "cell_type": "code",
   "execution_count": 78,
   "metadata": {
    "collapsed": true,
    "deletable": true,
    "editable": true
   },
   "outputs": [],
   "source": [
    "prizes = top_k.make_projects(min_prize, max_prize, P)\n",
    "possible_sets = top_k.get_possible_sets(prizes, budget)\n",
    "# best_set = top_k.best_outcome(values, possible_sets)\n",
    "max_set, max_total_util = top_k.max_utility(possible_sets, utilities)"
   ]
  },
  {
   "cell_type": "code",
   "execution_count": 79,
   "metadata": {
    "collapsed": false,
    "deletable": true,
    "editable": true
   },
   "outputs": [],
   "source": [
    "# Create different base utilities \n",
    "base_util, vote_util = [], []\n",
    "for i in range(P):\n",
    "    util = top_k.make_base_util(P)\n",
    "    base_util.append(util)    \n",
    "    utilities = top_k.make_voter_utils(util, epsilon, int(N/5))\n",
    "    vote_util.append(utilities)\n",
    "voter_utilities = np.vstack(vote_util)"
   ]
  },
  {
   "cell_type": "code",
   "execution_count": 80,
   "metadata": {
    "collapsed": false,
    "deletable": true,
    "editable": true
   },
   "outputs": [
    {
     "name": "stdout",
     "output_type": "stream",
     "text": [
      "---------k------------ 1\n",
      "votes: Counter({7: 131, 0: 123, 4: 110, 8: 109, 9: 98, 3: 92, 5: 89, 2: 87, 1: 87, 6: 74})\n",
      "{0, 1, 4, 7, 8}\n",
      "util 0.4942307788224738\n",
      "egal 0.20123959160478366\n",
      "comp 20.67\n",
      "dist 99.13572165070822\n",
      "---------k------------ 2\n",
      "votes: Counter({7: 262, 0: 234, 8: 211, 5: 201, 4: 199, 1: 196, 9: 191, 2: 178, 3: 170, 6: 158})\n",
      "{0, 8, 5, 7}\n",
      "util 0.34104469360318945\n",
      "egal 0.07994072944042205\n",
      "comp 17.0\n",
      "dist 143.66423474562248\n",
      "---------k------------ 3\n",
      "votes: Counter({7: 382, 0: 341, 8: 314, 4: 304, 5: 303, 1: 285, 9: 278, 3: 272, 2: 265, 6: 256})\n",
      "{0, 1, 4, 7, 8}\n",
      "util 0.4942307788224738\n",
      "egal 0.20123959160478366\n",
      "comp 20.67\n",
      "dist 99.13572165070822\n",
      "---------k------------ 4\n",
      "votes: Counter({7: 484, 0: 442, 4: 411, 8: 411, 5: 410, 1: 382, 3: 374, 2: 373, 9: 362, 6: 351})\n",
      "{0, 1, 4, 7, 8}\n",
      "util 0.4942307788224738\n",
      "egal 0.20123959160478366\n",
      "comp 20.67\n",
      "dist 99.13572165070822\n",
      "---------k------------ 5\n",
      "votes: Counter({7: 569, 0: 556, 8: 527, 5: 503, 1: 501, 4: 500, 2: 476, 9: 465, 3: 463, 6: 440})\n",
      "{0, 8, 5, 7}\n",
      "util 0.34104469360318945\n",
      "egal 0.07994072944042205\n",
      "comp 17.0\n",
      "dist 143.66423474562248\n",
      "---------k------------ 6\n",
      "votes: Counter({7: 659, 0: 658, 8: 624, 1: 613, 5: 595, 4: 593, 9: 581, 2: 572, 3: 564, 6: 541})\n",
      "{0, 1, 4, 7, 8}\n",
      "util 0.4942307788224738\n",
      "egal 0.20123959160478366\n",
      "comp 20.67\n",
      "dist 99.13572165070822\n",
      "---------k------------ 7\n",
      "votes: Counter({0: 763, 7: 738, 8: 727, 4: 712, 1: 700, 5: 698, 9: 693, 3: 676, 2: 661, 6: 632})\n",
      "{0, 1, 4, 7, 8}\n",
      "util 0.4942307788224738\n",
      "egal 0.20123959160478366\n",
      "comp 20.67\n",
      "dist 99.13572165070822\n",
      "---------k------------ 8\n",
      "votes: Counter({0: 847, 7: 832, 8: 831, 5: 811, 4: 810, 1: 807, 9: 780, 3: 774, 2: 764, 6: 744})\n",
      "{0, 8, 5, 7}\n",
      "util 0.34104469360318945\n",
      "egal 0.07994072944042205\n",
      "comp 17.0\n",
      "dist 143.66423474562248\n",
      "---------k------------ 9\n",
      "votes: Counter({7: 918, 0: 915, 4: 911, 8: 910, 5: 908, 1: 904, 3: 899, 2: 890, 9: 887, 6: 858})\n",
      "{0, 1, 4, 7, 8}\n",
      "util 0.4942307788224738\n",
      "egal 0.20123959160478366\n",
      "comp 20.67\n",
      "dist 99.13572165070822\n",
      "---------k------------ 10\n",
      "votes: Counter({0: 1000, 5: 1000, 4: 1000, 9: 1000, 1: 1000, 8: 1000, 6: 1000, 7: 1000, 2: 1000, 3: 1000})\n",
      "{0, 9, 4, 5}\n",
      "util 0.436423685760102\n",
      "egal 0.2475329477238208\n",
      "comp 13.05\n",
      "dist 112.26687853850834\n"
     ]
    }
   ],
   "source": [
    "util_scores = []\n",
    "egal_scores = []\n",
    "comp_scores = []\n",
    "dist_scores = []\n",
    "\n",
    "\n",
    "for k in range(1, P+1):\n",
    "        print(\"---------k------------\", k)\n",
    "        # calculate scores for all projects\n",
    "        votes = top_k.k_approval(k, voter_utilities, P)\n",
    "        print(f\"votes: {votes}\")\n",
    "        \n",
    "        # determine the winning projects\n",
    "        winners = top_k.greedy_allocation(votes, prizes, budget)\n",
    "        print(winners)\n",
    "        # calculate loss\n",
    "        util_score = top_k.calculate_sw(utilities, winners)\n",
    "        egal_score = top_k.calculate_sw(utilities, winners, egal=True)\n",
    "        # nash_score = calculate_sw(utilities, winners, nash=True)\n",
    "        nash_score = 0\n",
    "\n",
    "        comp_score = top_k.calc_compare_score(winners, max_set, prizes)\n",
    "        dist_score = max_total_util / util_score\n",
    "\n",
    "        print(\"util\", util_score)\n",
    "        print(\"egal\", egal_score)\n",
    "        print(\"comp\", comp_score)\n",
    "        print(\"dist\", dist_score)\n",
    "        \n",
    "        util_scores.append(util_score)\n",
    "        egal_scores.append(egal_score)\n",
    "        comp_scores.append(comp_score)\n",
    "        dist_scores.append(dist_score)"
   ]
  },
  {
   "cell_type": "code",
   "execution_count": 81,
   "metadata": {
    "collapsed": true,
    "deletable": true,
    "editable": true
   },
   "outputs": [],
   "source": [
    "from matplotlib import pyplot as plt\n",
    "\n",
    "def plot(name, scores):\n",
    "    x = range(1, P+1)\n",
    "    plt.bar(x, scores)\n",
    "\n",
    "    plt.title(name, fontsize=20)\n",
    "    plt.xticks(range(1,10))\n",
    "\n",
    "    plt.xlabel(\"k-value\", fontsize=15)\n",
    "    plt.ylabel(\"score\", fontsize=15)\n",
    "    plt.show()"
   ]
  },
  {
   "cell_type": "code",
   "execution_count": 82,
   "metadata": {
    "collapsed": false,
    "deletable": true,
    "editable": true
   },
   "outputs": [
    {
     "data": {
      "image/png": "[encoded data removed]",
      "text/plain": [
       "<matplotlib.figure.Figure at 0x7f7798604dd8>"
      ]
     },
     "metadata": {},
     "output_type": "display_data"
    },
    {
     "data": {
      "image/png": "[encoded data removed]",
      "text/plain": [
       "<matplotlib.figure.Figure at 0x7f7798604da0>"
      ]
     },
     "metadata": {},
     "output_type": "display_data"
    },
    {
     "data": {
      "image/png": "[encoded data removed]",
      "text/plain": [
       "<matplotlib.figure.Figure at 0x7f779698efd0>"
      ]
     },
     "metadata": {},
     "output_type": "display_data"
    },
    {
     "data": {
      "image/png": "[encoded data removed]",
      "text/plain": [
       "<matplotlib.figure.Figure at 0x7f7792f74940>"
      ]
     },
     "metadata": {},
     "output_type": "display_data"
    }
   ],
   "source": [
    "plot(\"util\", util_scores)\n",
    "plot(\"egal\", egal_scores)\n",
    "plot(\"comp\", comp_scores)\n",
    "plot(\"dist\", dist_scores)"
   ]
  },
  {
   "cell_type": "markdown",
   "metadata": {
    "deletable": true,
    "editable": true
   },
   "source": [
    "# Borda base util"
   ]
  },
  {
   "cell_type": "code",
   "execution_count": 3,
   "metadata": {
    "collapsed": true,
    "deletable": true,
    "editable": true
   },
   "outputs": [],
   "source": [
    "P = 10\n",
    "epsilon = 5\n",
    "N = 500\n",
    "budget = 30\n",
    "min_prize = 20\n",
    "max_prize = 30"
   ]
  },
  {
   "cell_type": "code",
   "execution_count": 4,
   "metadata": {
    "collapsed": true,
    "deletable": true,
    "editable": true
   },
   "outputs": [],
   "source": [
    "def normal_prizes(min_prize, max_prize, sd, P):\n",
    "    prizes = {}\n",
    "    mid = (min_prize+sd)\n",
    "    for i in range(P):\n",
    "        prize = np.random.normal(mid, sd)\n",
    "        prizes[i] = int(max(prize, min_prize))\n",
    "    return prizes"
   ]
  },
  {
   "cell_type": "code",
   "execution_count": null,
   "metadata": {
    "collapsed": false,
    "deletable": true,
    "editable": true
   },
   "outputs": [],
   "source": []
  },
  {
   "cell_type": "code",
   "execution_count": 5,
   "metadata": {
    "collapsed": false,
    "deletable": true,
    "editable": true
   },
   "outputs": [
    {
     "name": "stdout",
     "output_type": "stream",
     "text": [
      "[30  2  2  2  2  2  2  2  2  2]\n",
      "[[0.4122826  0.06786708 0.         ... 0.03029138 0.15841548 0.14937762]\n",
      " [0.30296475 0.07962356 0.11197145 ... 0.12462072 0.0865863  0.03342368]\n",
      " [0.62006144 0.07367359 0.         ... 0.0066114  0.0013173  0.08254214]\n",
      " ...\n",
      " [0.4808159  0.06273759 0.02017207 ... 0.12123369 0.07390803 0.07626211]\n",
      " [0.2516049  0.         0.07859085 ... 0.10867549 0.063678   0.04988784]\n",
      " [0.35414134 0.11575128 0.11015943 ... 0.06067553 0.         0.06013068]]\n"
     ]
    }
   ],
   "source": [
    "# Create utilities\n",
    "base_util = top_k.make_base_util(P, True)\n",
    "base_util[0] = 30\n",
    "base_util[1:] = 2\n",
    "print(base_util)\n",
    "utilities = top_k.make_voter_utils(base_util, epsilon, N)\n",
    "print(utilities)\n",
    "# Prizes and possible sets\n",
    "prizes = top_k.make_projects(min_prize, max_prize, P)\n",
    "# prizes = normal_prizes(min_prize, max_prize, 7, P)\n",
    "possible_sets = top_k.get_possible_sets(prizes, budget)\n",
    "max_set, max_total_util = top_k.max_utility(possible_sets, utilities)\n"
   ]
  },
  {
   "cell_type": "code",
   "execution_count": 6,
   "metadata": {
    "collapsed": false,
    "deletable": true,
    "editable": true
   },
   "outputs": [
    {
     "name": "stdout",
     "output_type": "stream",
     "text": [
      "---------k------------ 1\n",
      "votes: Counter({3: 60, 2: 59, 9: 59, 8: 58, 7: 56, 4: 56, 1: 55, 5: 49, 6: 48, 0: 0})\n",
      "{3}\n",
      "util 0.06925705823224791\n",
      "egal 0.0\n",
      "comp 0.0\n",
      "dist 2585.3962219909718\n",
      "---------k------------ 2\n",
      "votes: Counter({8: 118, 4: 118, 2: 117, 3: 114, 1: 108, 7: 108, 5: 107, 9: 106, 6: 104, 0: 0})\n",
      "{8}\n",
      "util 0.07028952082968055\n",
      "egal 0.0\n",
      "comp 0.0\n",
      "dist 2547.4200789295132\n",
      "---------k------------ 3\n",
      "votes: Counter({8: 181, 4: 172, 6: 171, 3: 168, 2: 165, 9: 163, 5: 163, 1: 163, 7: 154, 0: 0})\n",
      "{8}\n",
      "util 0.07028952082968055\n",
      "egal 0.0\n",
      "comp 0.0\n",
      "dist 2547.4200789295132\n",
      "---------k------------ 4\n",
      "votes: Counter({6: 235, 8: 230, 2: 228, 3: 228, 4: 221, 9: 220, 5: 214, 1: 214, 7: 210, 0: 0})\n",
      "{6}\n",
      "util 0.06950140172391156\n",
      "egal 0.0\n",
      "comp 0.0\n",
      "dist 2576.3068407044657\n",
      "---------k------------ 5\n",
      "votes: Counter({6: 292, 3: 285, 8: 283, 4: 278, 9: 276, 2: 275, 5: 274, 7: 269, 1: 268, 0: 0})\n",
      "{6}\n",
      "util 0.06950140172391156\n",
      "egal 0.0\n",
      "comp 0.0\n",
      "dist 2576.3068407044657\n",
      "---------k------------ 6\n",
      "votes: Counter({6: 352, 3: 345, 7: 336, 5: 333, 4: 331, 9: 328, 8: 327, 2: 324, 1: 324, 0: 0})\n",
      "{6}\n",
      "util 0.06950140172391156\n",
      "egal 0.0\n",
      "comp 0.0\n",
      "dist 2576.3068407044657\n",
      "---------k------------ 7\n",
      "votes: Counter({6: 409, 9: 393, 3: 392, 5: 392, 1: 388, 4: 386, 7: 383, 8: 379, 2: 378, 0: 0})\n",
      "{6}\n",
      "util 0.06950140172391156\n",
      "egal 0.0\n",
      "comp 0.0\n",
      "dist 2576.3068407044657\n",
      "---------k------------ 8\n",
      "votes: Counter({1: 453, 6: 452, 9: 450, 3: 445, 4: 445, 7: 442, 8: 439, 2: 437, 5: 437, 0: 0})\n",
      "{1}\n",
      "util 0.0715474355460892\n",
      "egal 0.0\n",
      "comp 0.0\n",
      "dist 2502.6324889662633\n",
      "---------k------------ 9\n",
      "votes: Counter({2: 500, 3: 500, 7: 500, 6: 500, 4: 500, 1: 500, 5: 500, 9: 500, 8: 500, 0: 0})\n",
      "{2}\n",
      "util 0.0721219522926129\n",
      "egal 0.0\n",
      "comp 0.0\n",
      "dist 2482.6967519319696\n",
      "---------k------------ 10\n",
      "votes: Counter({2: 500, 3: 500, 7: 500, 6: 500, 4: 500, 1: 500, 5: 500, 9: 500, 8: 500, 0: 500})\n",
      "{2}\n",
      "util 0.0721219522926129\n",
      "egal 0.0\n",
      "comp 0.0\n",
      "dist 2482.6967519319696\n"
     ]
    }
   ],
   "source": [
    "util_scores = []\n",
    "egal_scores = []\n",
    "comp_scores = []\n",
    "dist_scores = []\n",
    "\n",
    "\n",
    "for k in range(1, P+1):\n",
    "        print(\"---------k------------\", k)\n",
    "        # calculate scores for all projects\n",
    "        votes = top_k.k_approval(k, utilities, P)\n",
    "        print(f\"votes: {votes}\")\n",
    "        \n",
    "        # determine the winning projects\n",
    "        winners = top_k.greedy_allocation(votes, prizes, budget)\n",
    "        print(winners)\n",
    "        # calculate loss\n",
    "        util_score = top_k.calculate_sw(utilities, winners)\n",
    "        egal_score = top_k.calculate_sw(utilities, winners, egal=True)\n",
    "        # nash_score = calculate_sw(utilities, winners, nash=True)\n",
    "        nash_score = 0\n",
    "\n",
    "        comp_score = top_k.calc_compare_score(winners, max_set, prizes)\n",
    "        dist_score = max_total_util / util_score\n",
    "\n",
    "        print(\"util\", util_score)\n",
    "        print(\"egal\", egal_score)\n",
    "        print(\"comp\", comp_score)\n",
    "        print(\"dist\", dist_score)\n",
    "        \n",
    "        util_scores.append(util_score)\n",
    "        egal_scores.append(egal_score)\n",
    "        comp_scores.append(comp_score)\n",
    "        dist_scores.append(dist_score)"
   ]
  },
  {
   "cell_type": "code",
   "execution_count": 61,
   "metadata": {
    "collapsed": true,
    "deletable": true,
    "editable": true
   },
   "outputs": [],
   "source": [
    "from matplotlib import pyplot as plt\n",
    "\n",
    "def plot(name, scores):\n",
    "    x = range(1, P+1)\n",
    "    plt.bar(x, scores)\n",
    "\n",
    "    plt.title(name, fontsize=20)\n",
    "    plt.xticks(range(1,10))\n",
    "\n",
    "    plt.xlabel(\"k-value\", fontsize=15)\n",
    "    plt.ylabel(\"score\", fontsize=15)\n",
    "    plt.show()"
   ]
  },
  {
   "cell_type": "code",
   "execution_count": 62,
   "metadata": {
    "collapsed": false,
    "deletable": true,
    "editable": true
   },
   "outputs": [
    {
     "data": {
      "image/png": "[encoded data removed]",
      "text/plain": [
       "<matplotlib.figure.Figure at 0x7f7792ee64a8>"
      ]
     },
     "metadata": {},
     "output_type": "display_data"
    },
    {
     "data": {
      "image/png": "[encoded data removed]",
      "text/plain": [
       "<matplotlib.figure.Figure at 0x7f7792c29cf8>"
      ]
     },
     "metadata": {},
     "output_type": "display_data"
    },
    {
     "data": {
      "image/png": "[encoded data removed]",
      "text/plain": [
       "<matplotlib.figure.Figure at 0x7f7792c9c240>"
      ]
     },
     "metadata": {},
     "output_type": "display_data"
    },
    {
     "data": {
      "image/png": "[encoded data removed]",
      "text/plain": [
       "<matplotlib.figure.Figure at 0x7f7792c50160>"
      ]
     },
     "metadata": {},
     "output_type": "display_data"
    }
   ],
   "source": [
    "plot(\"util\", util_scores)\n",
    "plot(\"egal\", egal_scores)\n",
    "plot(\"comp\", comp_scores)\n",
    "plot(\"dist\", dist_scores)"
   ]
  },
  {
   "cell_type": "code",
   "execution_count": null,
   "metadata": {
    "collapsed": true,
    "deletable": true,
    "editable": true
   },
   "outputs": [],
   "source": []
  }
 ],
 "metadata": {
  "kernelspec": {
   "display_name": "Python 3",
   "language": "python",
   "name": "python3"
  },
  "language_info": {
   "codemirror_mode": {
    "name": "ipython",
    "version": 3
   },
   "file_extension": ".py",
   "mimetype": "text/x-python",
   "name": "python",
   "nbconvert_exporter": "python",
   "pygments_lexer": "ipython3",
   "version": "3.6.9"
  }
 },
 "nbformat": 4,
 "nbformat_minor": 2
}
