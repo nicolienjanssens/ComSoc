{
 "cells": [
  {
   "cell_type": "code",
   "execution_count": 42,
   "metadata": {
    "collapsed": true,
    "deletable": true,
    "editable": true
   },
   "outputs": [],
   "source": [
    "import top_k\n",
    "import numpy as np\n",
    "import pandas as pd"
   ]
  },
  {
   "cell_type": "code",
   "execution_count": 19,
   "metadata": {
    "collapsed": false,
    "deletable": true,
    "editable": true
   },
   "outputs": [],
   "source": [
    "# using project costs and utils from benade 2018\n",
    "budget = 65\n",
    "P = 10\n",
    "\n",
    "project_prizes= {0:10, 1:20, 2:3, 3:8, 4:5, 5:5, 6:10, 7:10, 8:30, 9:25}\n",
    "possible_sets = top_k.get_possible_sets(project_prizes, budget)"
   ]
  },
  {
   "cell_type": "code",
   "execution_count": 38,
   "metadata": {
    "collapsed": false,
    "deletable": true,
    "editable": true
   },
   "outputs": [],
   "source": [
    "N = 720\n",
    "epsilon = 15\n",
    "\n",
    "base_util = np.asarray([5.8, 2.3, 29.3, 9.5, 14.8, 9.4, 5.4, 14.9, 6.7, 1.9])\n",
    "utilities = top_k.make_voter_utils(base_util, epsilon, N)"
   ]
  },
  {
   "cell_type": "code",
   "execution_count": 39,
   "metadata": {
    "collapsed": false,
    "deletable": true,
    "editable": true
   },
   "outputs": [],
   "source": [
    "max_set = top_k.max_utility(possible_sets, utilities)\n"
   ]
  },
  {
   "cell_type": "code",
   "execution_count": 74,
   "metadata": {
    "collapsed": false,
    "deletable": true,
    "editable": true
   },
   "outputs": [
    {
     "name": "stdout",
     "output_type": "stream",
     "text": [
      "---------k------------ 1\n",
      "Counter({9: 137, 1: 119, 6: 104, 0: 93, 8: 71, 5: 67, 3: 58, 7: 37, 4: 31, 2: 3})\n",
      "util 0.3028572686976983\n",
      "egal 0.07616262757108859\n",
      "comp 27.743055555555557\n",
      "dist 3.130649152985045\n",
      "---------k------------ 2\n",
      "Counter({9: 250, 1: 234, 6: 194, 8: 163, 0: 157, 5: 151, 3: 120, 4: 84, 7: 78, 2: 9})\n",
      "util 0.3028572686976983\n",
      "egal 0.07616262757108859\n",
      "comp 27.743055555555557\n",
      "dist 3.130649152985045\n",
      "---------k------------ 3\n",
      "Counter({9: 355, 1: 336, 6: 286, 0: 253, 8: 235, 5: 217, 3: 197, 7: 132, 4: 129, 2: 20})\n",
      "util 0.3028572686976983\n",
      "egal 0.07616262757108859\n",
      "comp 27.743055555555557\n",
      "dist 3.130649152985045\n",
      "---------k------------ 4\n",
      "Counter({9: 436, 1: 435, 6: 366, 0: 358, 8: 299, 5: 296, 3: 286, 7: 190, 4: 179, 2: 35})\n",
      "util 0.3028572686976983\n",
      "egal 0.07616262757108859\n",
      "comp 27.743055555555557\n",
      "dist 3.130649152985045\n",
      "---------k------------ 5\n",
      "Counter({1: 514, 9: 509, 6: 450, 0: 425, 8: 392, 5: 377, 3: 355, 4: 255, 7: 251, 2: 72})\n",
      "util 0.3028572686976983\n",
      "egal 0.07616262757108859\n",
      "comp 27.743055555555557\n",
      "dist 3.130649152985045\n",
      "---------k------------ 6\n",
      "Counter({1: 582, 9: 563, 6: 523, 0: 506, 8: 482, 5: 452, 3: 432, 4: 340, 7: 332, 2: 108})\n",
      "util 0.3028572686976983\n",
      "egal 0.07616262757108859\n",
      "comp 27.743055555555557\n",
      "dist 3.130649152985045\n",
      "---------k------------ 7\n",
      "Counter({1: 633, 9: 616, 6: 584, 0: 579, 8: 554, 5: 528, 3: 521, 4: 437, 7: 435, 2: 153})\n",
      "util 0.3028572686976983\n",
      "egal 0.07616262757108859\n",
      "comp 27.743055555555557\n",
      "dist 3.130649152985045\n",
      "---------k------------ 8\n",
      "Counter({1: 672, 9: 661, 0: 643, 6: 642, 8: 619, 5: 612, 3: 591, 7: 540, 4: 536, 2: 244})\n",
      "util 0.3028572686976983\n",
      "egal 0.07616262757108859\n",
      "comp 27.743055555555557\n",
      "dist 3.130649152985045\n",
      "---------k------------ 9\n",
      "Counter({9: 700, 1: 699, 0: 696, 6: 695, 5: 677, 3: 670, 8: 670, 7: 646, 4: 642, 2: 385})\n",
      "util 0.3028572686976983\n",
      "egal 0.07616262757108859\n",
      "comp 27.743055555555557\n",
      "dist 3.130649152985045\n"
     ]
    }
   ],
   "source": [
    "for k in range(1, P):\n",
    "        print(\"---------k------------\", k)\n",
    "        # calculate scores for all projects\n",
    "        votes = top_k.k_approval(k, utilities, P)\n",
    "        print(votes)\n",
    "        # determine the winning projects\n",
    "        winners = top_k.greedy_allocation(votes, project_prizes, budget)\n",
    "        \n",
    "        # calculate loss\n",
    "        util_score = top_k.calculate_sw(utilities, winners)\n",
    "        egal_score = top_k.calculate_sw(utilities, winners, egal=True)\n",
    "        # nash_score = calculate_sw(utilities, winners, nash=True)\n",
    "        nash_score = 0\n",
    "\n",
    "        comp_score = top_k.calc_compare_score(winners, max_set, project_prizes)\n",
    "        dist_score = top_k.calc_dist_score(winners, max_set, utilities)\n",
    "\n",
    "        print(\"util\", util_score)\n",
    "        print(\"egal\", egal_score)\n",
    "        print(\"comp\", comp_score)\n",
    "        print(\"dist\", dist_score)"
   ]
  },
  {
   "cell_type": "code",
   "execution_count": 78,
   "metadata": {
    "collapsed": false,
    "deletable": true,
    "editable": true
   },
   "outputs": [],
   "source": [
    "df = pd.read_csv(\"results/results_P10_ep15_N720_B65_min10_max25_L100.csv\")"
   ]
  },
  {
   "cell_type": "code",
   "execution_count": 79,
   "metadata": {
    "collapsed": false
   },
   "outputs": [
    {
     "data": {
      "image/png": "[encoded data removed]",
      "text/plain": [
       "<matplotlib.figure.Figure at 0x7fe8cd088160>"
      ]
     },
     "metadata": {},
     "output_type": "display_data"
    }
   ],
   "source": [
    "from collections import Counter\n",
    "from matplotlib import pyplot as plt\n",
    "\n",
    "winners = []\n",
    "for i, row in df.iterrows():\n",
    "    win = []\n",
    "    for i in range(1,10):\n",
    "        get = \"k_\" + str(i) + \"_winners\"\n",
    "        win.append(int(row[get]))\n",
    "    winners.append(win)\n",
    "    \n",
    "winner_sets = []\n",
    "for i, result in enumerate(winners):\n",
    "    winner_sets.append(len(set(result)))\n",
    "    \n",
    "c = Counter(winner_sets)\n",
    "plt.bar(list(c.keys()), c.values())\n",
    "plt.xlabel(\"Different winning sets\")\n",
    "plt.ylabel(\"Runs\")\n",
    "plt.show()"
   ]
  },
  {
   "cell_type": "code",
   "execution_count": null,
   "metadata": {
    "collapsed": true
   },
   "outputs": [],
   "source": []
  }
 ],
 "metadata": {
  "kernelspec": {
   "display_name": "Python 3",
   "language": "python",
   "name": "python3"
  },
  "language_info": {
   "codemirror_mode": {
    "name": "ipython",
    "version": 3
   },
   "file_extension": ".py",
   "mimetype": "text/x-python",
   "name": "python",
   "nbconvert_exporter": "python",
   "pygments_lexer": "ipython3",
   "version": "3.6.9"
  }
 },
 "nbformat": 4,
 "nbformat_minor": 2
}
