{
 "cells": [
  {
   "cell_type": "code",
   "execution_count": 4,
   "metadata": {
    "collapsed": true,
    "deletable": true,
    "editable": true
   },
   "outputs": [],
   "source": [
    "import top_k\n",
    "import numpy as np\n",
    "import pandas as pd"
   ]
  },
  {
   "cell_type": "markdown",
   "metadata": {},
   "source": [
    "# Namaak benade 2018"
   ]
  },
  {
   "cell_type": "code",
   "execution_count": 5,
   "metadata": {
    "collapsed": false,
    "deletable": true,
    "editable": true
   },
   "outputs": [],
   "source": [
    "# using project costs and utils from benade 2018\n",
    "budget = 65\n",
    "P = 10\n",
    "\n",
    "project_prizes= {0:10, 1:20, 2:3, 3:8, 4:5, 5:5, 6:10, 7:10, 8:30, 9:25}\n",
    "possible_sets = top_k.get_possible_sets(project_prizes, budget)"
   ]
  },
  {
   "cell_type": "code",
   "execution_count": 6,
   "metadata": {
    "collapsed": false,
    "deletable": true,
    "editable": true
   },
   "outputs": [],
   "source": [
    "N = 720\n",
    "epsilon = 15\n",
    "\n",
    "base_util = np.asarray([5.8, 2.3, 29.3, 9.5, 14.8, 9.4, 5.4, 14.9, 6.7, 1.9])\n",
    "utilities = top_k.make_voter_utils(base_util, epsilon, N)"
   ]
  },
  {
   "cell_type": "code",
   "execution_count": 7,
   "metadata": {
    "collapsed": false,
    "deletable": true,
    "editable": true
   },
   "outputs": [],
   "source": [
    "max_set = top_k.max_utility(possible_sets, utilities)\n"
   ]
  },
  {
   "cell_type": "code",
   "execution_count": 8,
   "metadata": {
    "collapsed": false,
    "deletable": true,
    "editable": true
   },
   "outputs": [
    {
     "name": "stdout",
     "output_type": "stream",
     "text": [
      "---------k------------ 1\n",
      "Counter({9: 144, 1: 141, 6: 111, 8: 83, 0: 76, 3: 68, 5: 44, 7: 25, 4: 24, 2: 4})\n",
      "---------k------------ 2\n",
      "Counter({9: 253, 1: 252, 6: 206, 0: 177, 8: 173, 3: 121, 5: 114, 4: 66, 7: 65, 2: 13})\n",
      "---------k------------ 3\n",
      "Counter({1: 351, 9: 348, 6: 289, 0: 266, 8: 260, 5: 194, 3: 190, 7: 128, 4: 113, 2: 21})\n",
      "---------k------------ 4\n",
      "Counter({1: 435, 9: 430, 6: 380, 8: 347, 0: 343, 3: 273, 5: 270, 7: 195, 4: 169, 2: 38})\n",
      "---------k------------ 5\n",
      "Counter({9: 507, 1: 507, 6: 453, 0: 428, 8: 422, 3: 357, 5: 352, 7: 275, 4: 233, 2: 66})\n",
      "---------k------------ 6\n",
      "Counter({1: 577, 9: 569, 6: 528, 0: 510, 8: 491, 3: 438, 5: 437, 7: 361, 4: 306, 2: 103})\n",
      "---------k------------ 7\n",
      "Counter({1: 635, 9: 624, 6: 586, 0: 574, 8: 571, 5: 535, 3: 515, 7: 444, 4: 395, 2: 161})\n",
      "---------k------------ 8\n",
      "Counter({1: 681, 9: 667, 0: 647, 8: 643, 6: 639, 5: 602, 3: 587, 7: 532, 4: 494, 2: 268})\n",
      "---------k------------ 9\n",
      "Counter({1: 708, 9: 699, 8: 696, 6: 690, 0: 685, 5: 685, 3: 665, 7: 631, 4: 629, 2: 392})\n"
     ]
    }
   ],
   "source": [
    "for k in range(1, P):\n",
    "        print(\"---------k------------\", k)\n",
    "        # calculate scores for all projects\n",
    "        votes = top_k.k_approval(k, utilities, P)\n",
    "        print(votes)\n",
    "        # determine the winning projects\n",
    "        winners = top_k.greedy_allocation(votes, project_prizes, budget)\n",
    "        \n",
    "        # calculate loss\n",
    "        util_score = top_k.calculate_sw(utilities, winners)\n",
    "        egal_score = top_k.calculate_sw(utilities, winners, egal=True)\n",
    "        # nash_score = calculate_sw(utilities, winners, nash=True)\n",
    "        nash_score = 0\n",
    "\n",
    "        comp_score = top_k.calc_compare_score(winners, max_set, project_prizes)\n",
    "        dist_score = top_k.calc_dist_score(winners, max_set, utilities)\n",
    "\n",
    "#         print(\"util\", util_score)\n",
    "#         print(\"egal\", egal_score)\n",
    "#         print(\"comp\", comp_score)\n",
    "#         print(\"dist\", dist_score)"
   ]
  },
  {
   "cell_type": "code",
   "execution_count": 9,
   "metadata": {
    "collapsed": false,
    "deletable": true,
    "editable": true
   },
   "outputs": [],
   "source": [
    "df = pd.read_csv(\"results/results_P10_ep15_N720_B65_min10_max25_L100.csv\")"
   ]
  },
  {
   "cell_type": "code",
   "execution_count": 10,
   "metadata": {
    "collapsed": false,
    "deletable": true,
    "editable": true
   },
   "outputs": [
    {
     "data": {
      "image/png": "[encoded data removed]",
      "text/plain": [
       "<matplotlib.figure.Figure at 0x7fc73eb99978>"
      ]
     },
     "metadata": {},
     "output_type": "display_data"
    }
   ],
   "source": [
    "from collections import Counter\n",
    "from matplotlib import pyplot as plt\n",
    "\n",
    "winners = []\n",
    "for i, row in df.iterrows():\n",
    "    win = []\n",
    "    for i in range(1,10):\n",
    "        get = \"k_\" + str(i) + \"_winners\"\n",
    "        win.append(int(row[get]))\n",
    "    winners.append(win)\n",
    "    \n",
    "winner_sets = []\n",
    "for i, result in enumerate(winners):\n",
    "    winner_sets.append(len(set(result)))\n",
    "    \n",
    "c = Counter(winner_sets)\n",
    "plt.bar(list(c.keys()), c.values())\n",
    "plt.xlabel(\"Different winning sets\")\n",
    "plt.ylabel(\"Runs\")\n",
    "plt.show()"
   ]
  },
  {
   "cell_type": "markdown",
   "metadata": {},
   "source": [
    "# Epistemic accuracy"
   ]
  },
  {
   "cell_type": "code",
   "execution_count": 248,
   "metadata": {
    "collapsed": false
   },
   "outputs": [],
   "source": [
    "from collections import defaultdict\n",
    "from sklearn.preprocessing import normalize\n",
    "\n",
    "\n",
    "def prob_utils(probs, k, N):\n",
    "    votes = []\n",
    "    projects = list(range(len(probs)))\n",
    "    # Create noisy prob vectors for voters\n",
    "    probs = np.tile(probs, (N,1))\n",
    "    noise = np.random.normal(0.07, 0.05, (N, len(projects)))\n",
    "    probs += noise\n",
    "    # Set all negative probs to 0 and \n",
    "    probs[probs < 0] = 0\n",
    "    probs = normalize(probs, \"l1\", axis=1)\n",
    "    # Every voters uses prob distr to vote\n",
    "    for i in range(N):\n",
    "        vote = np.random.choice(projects, k, replace=False, p=probs[i])\n",
    "        votes += list(vote)\n",
    "    return Counter(votes)\n"
   ]
  },
  {
   "cell_type": "code",
   "execution_count": 249,
   "metadata": {
    "collapsed": true,
    "deletable": true,
    "editable": true
   },
   "outputs": [],
   "source": [
    "P = 10 \n",
    "epsilon = 20\n",
    "N = 500\n",
    "budget = 40\n",
    "min_prize = 5\n",
    "max_prize = 20"
   ]
  },
  {
   "cell_type": "code",
   "execution_count": 250,
   "metadata": {
    "collapsed": false
   },
   "outputs": [],
   "source": [
    "values = top_k.make_base_util(P)\n",
    "probs = values / np.sum(values)\n",
    "prizes = top_k.make_projects(min_prize, max_prize, P)\n",
    "possible_sets = top_k.get_possible_sets(prizes, budget)\n",
    "best_set = top_k.best_outcome(values, possible_sets)"
   ]
  },
  {
   "cell_type": "code",
   "execution_count": 251,
   "metadata": {
    "collapsed": false
   },
   "outputs": [
    {
     "name": "stdout",
     "output_type": "stream",
     "text": [
      "1.0\n"
     ]
    },
    {
     "data": {
      "text/plain": [
       "Counter({0: 158,\n",
       "         1: 170,\n",
       "         2: 242,\n",
       "         3: 84,\n",
       "         4: 86,\n",
       "         5: 218,\n",
       "         6: 172,\n",
       "         7: 58,\n",
       "         8: 228,\n",
       "         9: 84})"
      ]
     },
     "execution_count": 251,
     "metadata": {},
     "output_type": "execute_result"
    }
   ],
   "source": [
    "prob_utils(probs, 3, N)"
   ]
  },
  {
   "cell_type": "code",
   "execution_count": 114,
   "metadata": {
    "collapsed": false
   },
   "outputs": [
    {
     "name": "stdout",
     "output_type": "stream",
     "text": [
      "[0.09869167 0.05934522 0.17081058 0.05289539 0.05862511 0.17312552\n",
      " 0.01908166 0.22200886 0.         0.14541599]\n",
      "[0 4 9 3 4 2 1 5 8 6]\n"
     ]
    }
   ],
   "source": [
    "utilities = top_k.make_voter_utils(values, epsilon, N)\n",
    "print(utilities[0])\n",
    "print(values)"
   ]
  },
  {
   "cell_type": "code",
   "execution_count": 112,
   "metadata": {
    "collapsed": false
   },
   "outputs": [
    {
     "name": "stdout",
     "output_type": "stream",
     "text": [
      "---------k------------ 1\n",
      "Counter({0: 72, 6: 60, 3: 59, 1: 52, 5: 50, 7: 47, 4: 46, 9: 44, 8: 38, 2: 32})\n",
      "win: [0, 3, 4, 5, 6] --best [6, 7, 8, 9]\n",
      "0.25\n",
      "---------k------------ 2\n",
      "Counter({0: 145, 6: 111, 3: 109, 7: 104, 5: 102, 1: 101, 9: 84, 2: 82, 4: 81, 8: 81})\n",
      "win: [0, 3, 6, 7] --best [6, 7, 8, 9]\n",
      "0.5\n",
      "---------k------------ 3\n",
      "Counter({0: 201, 6: 167, 5: 157, 7: 152, 3: 147, 1: 146, 4: 142, 9: 141, 8: 125, 2: 122})\n",
      "win: [0, 4, 5, 6, 7] --best [6, 7, 8, 9]\n",
      "0.5\n",
      "---------k------------ 4\n",
      "Counter({0: 259, 6: 218, 5: 209, 3: 205, 7: 199, 4: 195, 9: 193, 1: 188, 8: 171, 2: 163})\n",
      "win: [0, 3, 4, 5, 6] --best [6, 7, 8, 9]\n",
      "0.25\n",
      "---------k------------ 5\n",
      "Counter({0: 316, 6: 282, 5: 263, 3: 259, 7: 250, 4: 241, 9: 236, 1: 235, 8: 216, 2: 202})\n",
      "win: [0, 3, 4, 5, 6] --best [6, 7, 8, 9]\n",
      "0.25\n",
      "---------k------------ 6\n",
      "Counter({0: 362, 6: 334, 5: 314, 3: 302, 4: 301, 7: 295, 1: 290, 9: 284, 8: 266, 2: 252})\n",
      "win: [0, 3, 4, 5, 6] --best [6, 7, 8, 9]\n",
      "0.25\n",
      "---------k------------ 7\n",
      "Counter({0: 404, 6: 372, 7: 357, 5: 355, 3: 353, 4: 349, 1: 340, 9: 334, 8: 323, 2: 313})\n",
      "win: [0, 4, 5, 6, 7] --best [6, 7, 8, 9]\n",
      "0.5\n",
      "---------k------------ 8\n",
      "Counter({0: 442, 7: 413, 6: 413, 5: 410, 3: 407, 1: 399, 4: 397, 9: 385, 2: 371, 8: 363})\n",
      "win: [0, 4, 5, 6, 7] --best [6, 7, 8, 9]\n",
      "0.5\n",
      "---------k------------ 9\n",
      "Counter({0: 469, 5: 460, 3: 457, 6: 453, 7: 452, 1: 451, 9: 451, 4: 445, 8: 435, 2: 427})\n",
      "win: [0, 3, 4, 5, 6] --best [6, 7, 8, 9]\n",
      "0.25\n"
     ]
    }
   ],
   "source": [
    "for k in range(1, P):\n",
    "    print(\"---------k------------\", k)\n",
    "    # calculate scores for all projects\n",
    "    votes = top_k.k_approval(k, utilities, P)\n",
    "    print(votes)\n",
    "    \n",
    "    # determine the winning projects\n",
    "    winners = top_k.greedy_allocation(votes, project_prizes, budget)\n",
    "        \n",
    "    # Epistemic accuracy\n",
    "    print(\"win:\", list(winners), \"--best\",  best_set[0])\n",
    "    correct = 0\n",
    "    for alt in list(winners):\n",
    "        if alt in best_set[0]:\n",
    "            correct += 1\n",
    "    \n",
    "    acc = correct/len(best_set[0])\n",
    "    print(acc)\n",
    "                \n"
   ]
  },
  {
   "cell_type": "code",
   "execution_count": null,
   "metadata": {
    "collapsed": true
   },
   "outputs": [],
   "source": []
  },
  {
   "cell_type": "code",
   "execution_count": null,
   "metadata": {
    "collapsed": true
   },
   "outputs": [],
   "source": []
  }
 ],
 "metadata": {
  "kernelspec": {
   "display_name": "Python 3",
   "language": "python",
   "name": "python3"
  }
 },
 "nbformat": 4,
 "nbformat_minor": 2
}
