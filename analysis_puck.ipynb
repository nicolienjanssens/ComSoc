{
 "cells": [
  {
   "cell_type": "code",
   "execution_count": 3,
   "metadata": {
    "collapsed": true,
    "deletable": true,
    "editable": true
   },
   "outputs": [],
   "source": [
    "import top_k\n",
    "import numpy as np\n",
    "import pandas as pd"
   ]
  },
  {
   "cell_type": "markdown",
   "metadata": {
    "deletable": true,
    "editable": true
   },
   "source": [
    "# Namaak benade 2018"
   ]
  },
  {
   "cell_type": "code",
   "execution_count": 19,
   "metadata": {
    "collapsed": false,
    "deletable": true,
    "editable": true
   },
   "outputs": [],
   "source": [
    "# using projebudget = 65\n",
    "ct costs and utils from benade 2018\n",
    "P = 10\n",
    "\n",
    "project_prizes= {0:10, 1:20, 2:3, 3:8, 4:5, 5:5, 6:10, 7:10, 8:30, 9:25}\n",
    "possible_sets = top_k.get_possible_sets(project_prizes, budget)"
   ]
  },
  {
   "cell_type": "code",
   "execution_count": 20,
   "metadata": {
    "collapsed": false,
    "deletable": true,
    "editable": true
   },
   "outputs": [],
   "source": [
    "N = 720\n",
    "epsilon = 15\n",
    "\n",
    "base_util = np.asarray([5.8, 2.3, 29.3, 9.5, 14.8, 9.4, 5.4, 14.9, 6.7, 1.9])\n",
    "utilities = top_k.make_voter_utils(base_util, epsilon, N)"
   ]
  },
  {
   "cell_type": "code",
   "execution_count": 21,
   "metadata": {
    "collapsed": false,
    "deletable": true,
    "editable": true
   },
   "outputs": [],
   "source": [
    "max_set = top_k.max_utility(possible_sets, utilities)\n"
   ]
  },
  {
   "cell_type": "code",
   "execution_count": 22,
   "metadata": {
    "collapsed": false,
    "deletable": true,
    "editable": true
   },
   "outputs": [
    {
     "name": "stdout",
     "output_type": "stream",
     "text": [
      "---------k------------ 1\n",
      "Counter({1: 127, 9: 125, 6: 96, 0: 91, 8: 89, 5: 67, 3: 56, 7: 39, 4: 28, 2: 2})\n",
      "---------k------------ 2\n",
      "Counter({1: 249, 9: 247, 6: 194, 0: 189, 8: 158, 3: 137, 5: 115, 7: 83, 4: 61, 2: 7})\n",
      "---------k------------ 3\n",
      "Counter({1: 342, 9: 335, 6: 284, 0: 275, 8: 254, 3: 212, 5: 188, 7: 138, 4: 106, 2: 26})\n",
      "---------k------------ 4\n",
      "Counter({1: 437, 9: 402, 6: 374, 0: 357, 8: 322, 3: 284, 5: 275, 7: 208, 4: 176, 2: 45})\n",
      "---------k------------ 5\n",
      "Counter({1: 512, 9: 489, 6: 441, 0: 435, 8: 398, 3: 370, 5: 363, 7: 283, 4: 238, 2: 71})\n",
      "---------k------------ 6\n",
      "Counter({1: 575, 9: 564, 0: 513, 6: 506, 8: 485, 5: 447, 3: 447, 7: 354, 4: 312, 2: 117})\n",
      "---------k------------ 7\n",
      "Counter({1: 634, 9: 607, 0: 589, 6: 578, 8: 568, 5: 528, 3: 519, 7: 438, 4: 415, 2: 164})\n",
      "---------k------------ 8\n",
      "Counter({1: 677, 9: 660, 0: 652, 8: 639, 6: 636, 5: 600, 3: 598, 7: 529, 4: 525, 2: 244})\n",
      "---------k------------ 9\n",
      "Counter({1: 705, 9: 699, 8: 689, 6: 689, 0: 689, 3: 674, 5: 670, 4: 632, 7: 631, 2: 402})\n"
     ]
    }
   ],
   "source": [
    "for k in range(1, P):\n",
    "        print(\"---------k------------\", k)\n",
    "        # calculate scores for all projects\n",
    "        votes = top_k.k_approval(k, utilities, P)\n",
    "        print(votes)\n",
    "        # determine the winning projects\n",
    "        winners = top_k.greedy_allocation(votes, project_prizes, budget)\n",
    "        \n",
    "        # calculate loss\n",
    "        util_score = top_k.calculate_sw(utilities, winners)\n",
    "        egal_score = top_k.calculate_sw(utilities, winners, egal=True)\n",
    "        # nash_score = calculate_sw(utilities, winners, nash=True)\n",
    "        nash_score = 0\n",
    "\n",
    "        comp_score = top_k.calc_compare_score(winners, max_set, project_prizes)\n",
    "        dist_score = top_k.calc_dist_score(winners, max_set, utilities)\n",
    "\n",
    "#         print(\"util\", util_score)\n",
    "#         print(\"egal\", egal_score)\n",
    "#         print(\"comp\", comp_score)\n",
    "#         print(\"dist\", dist_score)"
   ]
  },
  {
   "cell_type": "code",
   "execution_count": 23,
   "metadata": {
    "collapsed": false,
    "deletable": true,
    "editable": true
   },
   "outputs": [],
   "source": [
    "df = pd.read_csv(\"results/results_P10_ep15_N720_B65_min10_max25_L100.csv\")"
   ]
  },
  {
   "cell_type": "code",
   "execution_count": 24,
   "metadata": {
    "collapsed": false,
    "deletable": true,
    "editable": true
   },
   "outputs": [
    {
     "data": {
      "image/png": "[encoded data removed]",
      "text/plain": [
       "<matplotlib.figure.Figure at 0x7f6e55c36f60>"
      ]
     },
     "metadata": {},
     "output_type": "display_data"
    }
   ],
   "source": [
    "from collections import Counter\n",
    "from matplotlib import pyplot as plt\n",
    "\n",
    "winners = []\n",
    "for i, row in df.iterrows():\n",
    "    win = []\n",
    "    for i in range(1,10):\n",
    "        get = \"k_\" + str(i) + \"_winners\"\n",
    "        win.append(int(row[get]))\n",
    "    winners.append(win)\n",
    "    \n",
    "winner_sets = []\n",
    "for i, result in enumerate(winners):\n",
    "    winner_sets.append(len(set(result)))\n",
    "    \n",
    "c = Counter(winner_sets)\n",
    "plt.bar(list(c.keys()), c.values())\n",
    "plt.xlabel(\"Different winning sets\")\n",
    "plt.ylabel(\"Runs\")\n",
    "plt.show()"
   ]
  },
  {
   "cell_type": "markdown",
   "metadata": {
    "deletable": true,
    "editable": true
   },
   "source": [
    "# Epistemic accuracy"
   ]
  },
  {
   "cell_type": "code",
   "execution_count": 25,
   "metadata": {
    "collapsed": false,
    "deletable": true,
    "editable": true
   },
   "outputs": [],
   "source": [
    "from collections import defaultdict\n",
    "from sklearn.preprocessing import normalize\n",
    "\n",
    "\n",
    "def epistemic_topk(probs, k, N):\n",
    "    votes = []\n",
    "    projects = list(range(len(probs)))\n",
    "    # Create noisy prob vectors for voters\n",
    "    probs = np.tile(probs, (N,1))\n",
    "    noise = np.random.normal(0.07, 0.05, (N, len(projects)))\n",
    "    probs += noise\n",
    "    # Set all negative probs to positive number and \n",
    "    probs[probs < 0] = 0.0001\n",
    "    probs = normalize(probs, \"l1\", axis=1)\n",
    "    # Every voters uses prob distr to vote\n",
    "    for i in range(N):\n",
    "        vote = np.random.choice(projects, k, replace=False, p=probs[i])\n",
    "        votes += list(vote)\n",
    "    return Counter(votes)\n"
   ]
  },
  {
   "cell_type": "code",
   "execution_count": 30,
   "metadata": {
    "collapsed": true,
    "deletable": true,
    "editable": true
   },
   "outputs": [],
   "source": [
    "P = 10 \n",
    "epsilon = 10\n",
    "N = 500\n",
    "budget = 40\n",
    "min_prize = 5\n",
    "max_prize = 25"
   ]
  },
  {
   "cell_type": "code",
   "execution_count": 31,
   "metadata": {
    "collapsed": false,
    "deletable": true,
    "editable": true
   },
   "outputs": [],
   "source": [
    "values = top_k.make_base_util(P)\n",
    "probs = values / np.sum(values)\n",
    "prizes = top_k.make_projects(min_prize, max_prize, P)\n",
    "possible_sets = top_k.get_possible_sets(prizes, budget)\n",
    "best_set = top_k.best_outcome(values, possible_sets)"
   ]
  },
  {
   "cell_type": "code",
   "execution_count": 32,
   "metadata": {
    "collapsed": false,
    "deletable": true,
    "editable": true
   },
   "outputs": [],
   "source": [
    "utilities = top_k.make_voter_utils(values, epsilon, N)\n"
   ]
  },
  {
   "cell_type": "code",
   "execution_count": 33,
   "metadata": {
    "collapsed": false,
    "deletable": true,
    "editable": true
   },
   "outputs": [
    {
     "name": "stdout",
     "output_type": "stream",
     "text": [
      "---------k------------ 1\n",
      "Counter({5: 68, 8: 65, 9: 55, 6: 53, 3: 52, 2: 50, 1: 48, 0: 47, 4: 39, 7: 23})\n",
      "win: [8, 2, 5] --best [7, 9]\n",
      "0.0\n",
      "---------k------------ 2\n",
      "Counter({3: 130, 5: 119, 8: 117, 0: 114, 4: 98, 6: 95, 2: 90, 9: 89, 1: 88, 7: 60})\n",
      "win: [0, 3, 4, 5, 6] --best [7, 9]\n",
      "0.0\n",
      "---------k------------ 3\n",
      "Counter({8: 183, 3: 181, 5: 179, 9: 172, 0: 167, 6: 154, 1: 138, 2: 126, 4: 115, 7: 85})\n",
      "win: [8, 3] --best [7, 9]\n",
      "0.0\n",
      "---------k------------ 4\n",
      "Counter({8: 270, 3: 235, 5: 226, 0: 225, 9: 221, 6: 210, 4: 173, 2: 172, 1: 148, 7: 120})\n",
      "win: [8, 3] --best [7, 9]\n",
      "0.0\n",
      "---------k------------ 5\n",
      "Counter({8: 329, 5: 289, 0: 283, 9: 278, 3: 268, 4: 250, 6: 239, 1: 218, 2: 195, 7: 151})\n",
      "win: [8, 4, 5] --best [7, 9]\n",
      "0.0\n",
      "---------k------------ 6\n",
      "Counter({8: 362, 5: 357, 3: 345, 0: 342, 9: 318, 6: 308, 2: 267, 1: 264, 4: 254, 7: 183})\n",
      "win: [8, 2, 5] --best [7, 9]\n",
      "0.0\n",
      "---------k------------ 7\n",
      "Counter({8: 420, 5: 410, 9: 382, 0: 376, 3: 372, 6: 345, 2: 331, 4: 321, 1: 319, 7: 224})\n",
      "win: [8, 2, 5] --best [7, 9]\n",
      "0.0\n",
      "---------k------------ 8\n",
      "Counter({8: 453, 5: 437, 3: 433, 6: 425, 9: 423, 0: 420, 4: 388, 1: 381, 2: 374, 7: 266})\n",
      "win: [8, 4, 5] --best [7, 9]\n",
      "0.0\n",
      "---------k------------ 9\n",
      "Counter({8: 488, 3: 475, 5: 470, 0: 470, 6: 464, 9: 459, 2: 450, 4: 440, 1: 433, 7: 351})\n",
      "win: [8, 3] --best [7, 9]\n",
      "0.0\n"
     ]
    }
   ],
   "source": [
    "for k in range(1, P):\n",
    "    print(\"---------k------------\", k)\n",
    "    # calculate scores for all projects\n",
    "    votes = epistemic_topk(probs, k,  N)\n",
    "    print(votes)\n",
    "    \n",
    "    # determine the winning projects\n",
    "    winners = top_k.greedy_allocation(votes, project_prizes, budget)\n",
    "        \n",
    "    # Epistemic accuracy\n",
    "    print(\"win:\", list(winners), \"--best\",  best_set[0])\n",
    "    correct = 0\n",
    "    for alt in list(winners):\n",
    "        if alt in best_set[0]:\n",
    "            correct += 1\n",
    "    \n",
    "    acc = correct/len(best_set[0])\n",
    "    print(acc)\n",
    "                \n"
   ]
  },
  {
   "cell_type": "markdown",
   "metadata": {
    "collapsed": true,
    "deletable": true,
    "editable": true
   },
   "source": [
    "# Different base utils"
   ]
  },
  {
   "cell_type": "code",
   "execution_count": 1,
   "metadata": {
    "collapsed": true,
    "deletable": true,
    "editable": true
   },
   "outputs": [],
   "source": [
    "P = 10 \n",
    "epsilon = 10\n",
    "N = 500\n",
    "budget = 40\n",
    "min_prize = 5\n",
    "max_prize = 25"
   ]
  },
  {
   "cell_type": "code",
   "execution_count": 24,
   "metadata": {
    "collapsed": false
   },
   "outputs": [],
   "source": [
    "prizes = top_k.make_projects(min_prize, max_prize, P)\n",
    "possible_sets = top_k.get_possible_sets(prizes, budget)\n",
    "# best_set = top_k.best_outcome(values, possible_sets)\n",
    "max_set = top_k.max_utility(possible_sets, utilities)"
   ]
  },
  {
   "cell_type": "code",
   "execution_count": 20,
   "metadata": {
    "collapsed": false
   },
   "outputs": [],
   "source": [
    "# Create different base utilities \n",
    "base_util, vote_util = [], []\n",
    "for i in range(5):\n",
    "    util = top_k.make_base_util(P)\n",
    "    base_util.append(util)    \n",
    "    utilities = top_k.make_voter_utils(util, epsilon, int(N/5))\n",
    "    vote_util.append(utilities)\n",
    "voter_utilities = np.vstack(vote_util)"
   ]
  },
  {
   "cell_type": "code",
   "execution_count": 28,
   "metadata": {
    "collapsed": false
   },
   "outputs": [
    {
     "name": "stdout",
     "output_type": "stream",
     "text": [
      "---------k------------ 1\n",
      "{8, 2, 5, 7}\n",
      "util 0.3813302143574217\n",
      "egal 0.15805079796309102\n",
      "comp 21.03\n",
      "dist 1.5689610672171137\n",
      "---------k------------ 2\n",
      "{8, 3, 5}\n",
      "util 0.27617018362327217\n",
      "egal 0.04910878322455006\n",
      "comp 11.52\n",
      "dist 2.4140401415143264\n",
      "---------k------------ 3\n",
      "{8, 4, 5, 7}\n",
      "util 0.3476532650290453\n",
      "egal 0.1436761093027008\n",
      "comp 20.04\n",
      "dist 1.7524745976188074\n",
      "---------k------------ 4\n",
      "{8, 4, 5, 7}\n",
      "util 0.3476532650290453\n",
      "egal 0.1436761093027008\n",
      "comp 20.04\n",
      "dist 1.7524745976188074\n",
      "---------k------------ 5\n",
      "{0, 8, 5}\n",
      "util 0.26322000884060587\n",
      "egal 0.0804260552504591\n",
      "comp 10.74\n",
      "dist 2.481029516069195\n",
      "---------k------------ 6\n",
      "{0, 8, 5}\n",
      "util 0.26322000884060587\n",
      "egal 0.0804260552504591\n",
      "comp 10.74\n",
      "dist 2.481029516069195\n",
      "---------k------------ 7\n",
      "{0, 8, 5}\n",
      "util 0.26322000884060587\n",
      "egal 0.0804260552504591\n",
      "comp 10.74\n",
      "dist 2.481029516069195\n",
      "---------k------------ 8\n",
      "{8, 3, 5}\n",
      "util 0.27617018362327217\n",
      "egal 0.04910878322455006\n",
      "comp 11.52\n",
      "dist 2.4140401415143264\n",
      "---------k------------ 9\n",
      "{3, 4, 5}\n",
      "util 0.2920787545090875\n",
      "egal 0.05066902442181792\n",
      "comp 12.06\n",
      "dist 2.4467233281583423\n"
     ]
    }
   ],
   "source": [
    "for k in range(1, P):\n",
    "        print(\"---------k------------\", k)\n",
    "        # calculate scores for all projects\n",
    "        votes = top_k.k_approval(k, voter_utilities, P)\n",
    "        \n",
    "        # determine the winning projects\n",
    "        winners = top_k.greedy_allocation(votes, prizes, budget)\n",
    "        print(winners)\n",
    "        # calculate loss\n",
    "        util_score = top_k.calculate_sw(utilities, winners)\n",
    "        egal_score = top_k.calculate_sw(utilities, winners, egal=True)\n",
    "        # nash_score = calculate_sw(utilities, winners, nash=True)\n",
    "        nash_score = 0\n",
    "\n",
    "        comp_score = top_k.calc_compare_score(winners, max_set, prizes)\n",
    "        dist_score = top_k.calc_dist_score(winners, max_set, utilities)\n",
    "\n",
    "        print(\"util\", util_score)\n",
    "        print(\"egal\", egal_score)\n",
    "        print(\"comp\", comp_score)\n",
    "        print(\"dist\", dist_score)"
   ]
  }
 ],
 "metadata": {
  "kernelspec": {
   "display_name": "Python 3",
   "language": "python",
   "name": "python3"
  },
  "language_info": {
   "codemirror_mode": {
    "name": "ipython",
    "version": 3
   },
   "file_extension": ".py",
   "mimetype": "text/x-python",
   "name": "python",
   "nbconvert_exporter": "python",
   "pygments_lexer": "ipython3",
   "version": "3.6.9"
  }
 },
 "nbformat": 4,
 "nbformat_minor": 2
}
